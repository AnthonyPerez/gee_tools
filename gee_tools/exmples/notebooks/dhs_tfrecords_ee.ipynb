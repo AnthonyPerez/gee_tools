{
 "cells": [
  {
   "cell_type": "code",
   "execution_count": 1,
   "metadata": {
    "collapsed": true
   },
   "outputs": [],
   "source": [
    "import os, sys\n",
    "repos = os.path.dirname(os.path.dirname((os.path.abspath('optical_datasources.py'))))\n",
    "sys.path.append(repos)"
   ]
  },
  {
   "cell_type": "code",
   "execution_count": 2,
   "metadata": {},
   "outputs": [
    {
     "data": {
      "text/plain": [
       "'/Users/george/Repos/GitHub/Personal'"
      ]
     },
     "execution_count": 2,
     "metadata": {},
     "output_type": "execute_result"
    }
   ],
   "source": [
    "repos"
   ]
  },
  {
   "cell_type": "code",
   "execution_count": 3,
   "metadata": {
    "collapsed": true
   },
   "outputs": [],
   "source": [
    "from gee_tools import optical_datasources as optx\n",
    "from gee_tools import imgtools\n",
    "import ee"
   ]
  },
  {
   "cell_type": "code",
   "execution_count": 4,
   "metadata": {
    "collapsed": true
   },
   "outputs": [],
   "source": [
    "ee.Initialize()"
   ]
  },
  {
   "cell_type": "code",
   "execution_count": 5,
   "metadata": {
    "collapsed": true
   },
   "outputs": [],
   "source": [
    "import pandas as pd"
   ]
  },
  {
   "cell_type": "code",
   "execution_count": 6,
   "metadata": {
    "collapsed": true
   },
   "outputs": [],
   "source": [
    "%matplotlib inline"
   ]
  },
  {
   "cell_type": "markdown",
   "metadata": {},
   "source": [
    "# Get formatted DHS dataframe"
   ]
  },
  {
   "cell_type": "markdown",
   "metadata": {},
   "source": [
    "This is just to understand better the distribution of the data within the DHS locations. This step is not necessary for the actual export."
   ]
  },
  {
   "cell_type": "code",
   "execution_count": 7,
   "metadata": {
    "collapsed": true
   },
   "outputs": [],
   "source": [
    "home = os.path.dirname((os.path.abspath('optical_datasources.py')))"
   ]
  },
  {
   "cell_type": "code",
   "execution_count": 8,
   "metadata": {
    "collapsed": true
   },
   "outputs": [],
   "source": [
    "dhsdf = pd.read_csv(os.path.join(home, 'dhs_all_locations.csv'))"
   ]
  },
  {
   "cell_type": "code",
   "execution_count": 9,
   "metadata": {},
   "outputs": [
    {
     "data": {
      "text/html": [
       "<div>\n",
       "<style scoped>\n",
       "    .dataframe tbody tr th:only-of-type {\n",
       "        vertical-align: middle;\n",
       "    }\n",
       "\n",
       "    .dataframe tbody tr th {\n",
       "        vertical-align: top;\n",
       "    }\n",
       "\n",
       "    .dataframe thead th {\n",
       "        text-align: right;\n",
       "    }\n",
       "</style>\n",
       "<table border=\"1\" class=\"dataframe\">\n",
       "  <thead>\n",
       "    <tr style=\"text-align: right;\">\n",
       "      <th></th>\n",
       "      <th>Unnamed: 0</th>\n",
       "      <th>cluster_index</th>\n",
       "      <th>lat</th>\n",
       "      <th>lon</th>\n",
       "      <th>wealth</th>\n",
       "      <th>wealthpooled</th>\n",
       "      <th>wealthpooled5country</th>\n",
       "      <th>households</th>\n",
       "      <th>urban_rural</th>\n",
       "      <th>year</th>\n",
       "      <th>country</th>\n",
       "    </tr>\n",
       "  </thead>\n",
       "  <tbody>\n",
       "    <tr>\n",
       "      <th>0</th>\n",
       "      <td>0</td>\n",
       "      <td>1</td>\n",
       "      <td>14.675431</td>\n",
       "      <td>-17.440521</td>\n",
       "      <td>1.708104</td>\n",
       "      <td>1.598379</td>\n",
       "      <td>1.377751</td>\n",
       "      <td>21</td>\n",
       "      <td>1</td>\n",
       "      <td>2012</td>\n",
       "      <td>senegal</td>\n",
       "    </tr>\n",
       "    <tr>\n",
       "      <th>1</th>\n",
       "      <td>1</td>\n",
       "      <td>2</td>\n",
       "      <td>14.678271</td>\n",
       "      <td>-17.457794</td>\n",
       "      <td>1.679525</td>\n",
       "      <td>1.734295</td>\n",
       "      <td>1.449533</td>\n",
       "      <td>20</td>\n",
       "      <td>1</td>\n",
       "      <td>2012</td>\n",
       "      <td>senegal</td>\n",
       "    </tr>\n",
       "    <tr>\n",
       "      <th>2</th>\n",
       "      <td>2</td>\n",
       "      <td>3</td>\n",
       "      <td>14.710419</td>\n",
       "      <td>-17.459288</td>\n",
       "      <td>1.337672</td>\n",
       "      <td>1.421252</td>\n",
       "      <td>1.209425</td>\n",
       "      <td>21</td>\n",
       "      <td>1</td>\n",
       "      <td>2012</td>\n",
       "      <td>senegal</td>\n",
       "    </tr>\n",
       "    <tr>\n",
       "      <th>3</th>\n",
       "      <td>3</td>\n",
       "      <td>4</td>\n",
       "      <td>14.702820</td>\n",
       "      <td>-17.443008</td>\n",
       "      <td>2.443803</td>\n",
       "      <td>2.117576</td>\n",
       "      <td>1.828092</td>\n",
       "      <td>21</td>\n",
       "      <td>1</td>\n",
       "      <td>2012</td>\n",
       "      <td>senegal</td>\n",
       "    </tr>\n",
       "    <tr>\n",
       "      <th>4</th>\n",
       "      <td>4</td>\n",
       "      <td>5</td>\n",
       "      <td>14.757125</td>\n",
       "      <td>-17.478474</td>\n",
       "      <td>2.091719</td>\n",
       "      <td>1.848890</td>\n",
       "      <td>1.626253</td>\n",
       "      <td>22</td>\n",
       "      <td>1</td>\n",
       "      <td>2012</td>\n",
       "      <td>senegal</td>\n",
       "    </tr>\n",
       "  </tbody>\n",
       "</table>\n",
       "</div>"
      ],
      "text/plain": [
       "   Unnamed: 0  cluster_index        lat        lon    wealth  wealthpooled  \\\n",
       "0           0              1  14.675431 -17.440521  1.708104      1.598379   \n",
       "1           1              2  14.678271 -17.457794  1.679525      1.734295   \n",
       "2           2              3  14.710419 -17.459288  1.337672      1.421252   \n",
       "3           3              4  14.702820 -17.443008  2.443803      2.117576   \n",
       "4           4              5  14.757125 -17.478474  2.091719      1.848890   \n",
       "\n",
       "   wealthpooled5country  households  urban_rural  year  country  \n",
       "0              1.377751          21            1  2012  senegal  \n",
       "1              1.449533          20            1  2012  senegal  \n",
       "2              1.209425          21            1  2012  senegal  \n",
       "3              1.828092          21            1  2012  senegal  \n",
       "4              1.626253          22            1  2012  senegal  "
      ]
     },
     "execution_count": 9,
     "metadata": {},
     "output_type": "execute_result"
    }
   ],
   "source": [
    "dhsdf.head()"
   ]
  },
  {
   "cell_type": "code",
   "execution_count": 10,
   "metadata": {},
   "outputs": [
    {
     "data": {
      "text/plain": [
       "(19671, 11)"
      ]
     },
     "execution_count": 10,
     "metadata": {},
     "output_type": "execute_result"
    }
   ],
   "source": [
    "dhsdf.shape"
   ]
  },
  {
   "cell_type": "code",
   "execution_count": 11,
   "metadata": {},
   "outputs": [
    {
     "data": {
      "text/plain": [
       "array([[<matplotlib.axes._subplots.AxesSubplot object at 0x10b7abbd0>]],\n",
       "      dtype=object)"
      ]
     },
     "execution_count": 11,
     "metadata": {},
     "output_type": "execute_result"
    },
    {
     "data": {
      "image/png": "[encoded data removed]",
      "text/plain": [
       "<matplotlib.figure.Figure at 0x10a4ad050>"
      ]
     },
     "metadata": {},
     "output_type": "display_data"
    }
   ],
   "source": [
    " dhsdf.hist('year', bins=8)"
   ]
  },
  {
   "cell_type": "code",
   "execution_count": 12,
   "metadata": {
    "collapsed": true
   },
   "outputs": [],
   "source": [
    "dfsmr = pd.DataFrame(dhsdf.groupby(['year','country']).size())"
   ]
  },
  {
   "cell_type": "code",
   "execution_count": 13,
   "metadata": {
    "collapsed": true
   },
   "outputs": [],
   "source": [
    "dfsmr2 = pd.DataFrame(dhsdf.groupby(['year']).size())"
   ]
  },
  {
   "cell_type": "code",
   "execution_count": 14,
   "metadata": {
    "collapsed": true
   },
   "outputs": [],
   "source": [
    "dfsmr2=dfsmr2.reset_index()"
   ]
  },
  {
   "cell_type": "code",
   "execution_count": 15,
   "metadata": {},
   "outputs": [
    {
     "data": {
      "text/html": [
       "<div>\n",
       "<style scoped>\n",
       "    .dataframe tbody tr th:only-of-type {\n",
       "        vertical-align: middle;\n",
       "    }\n",
       "\n",
       "    .dataframe tbody tr th {\n",
       "        vertical-align: top;\n",
       "    }\n",
       "\n",
       "    .dataframe thead th {\n",
       "        text-align: right;\n",
       "    }\n",
       "</style>\n",
       "<table border=\"1\" class=\"dataframe\">\n",
       "  <thead>\n",
       "    <tr style=\"text-align: right;\">\n",
       "      <th></th>\n",
       "      <th>year</th>\n",
       "      <th>0</th>\n",
       "    </tr>\n",
       "  </thead>\n",
       "  <tbody>\n",
       "    <tr>\n",
       "      <th>0</th>\n",
       "      <td>2009</td>\n",
       "      <td>835</td>\n",
       "    </tr>\n",
       "    <tr>\n",
       "      <th>1</th>\n",
       "      <td>2010</td>\n",
       "      <td>3906</td>\n",
       "    </tr>\n",
       "    <tr>\n",
       "      <th>2</th>\n",
       "      <td>2011</td>\n",
       "      <td>2389</td>\n",
       "    </tr>\n",
       "    <tr>\n",
       "      <th>3</th>\n",
       "      <td>2012</td>\n",
       "      <td>2140</td>\n",
       "    </tr>\n",
       "    <tr>\n",
       "      <th>4</th>\n",
       "      <td>2013</td>\n",
       "      <td>2865</td>\n",
       "    </tr>\n",
       "    <tr>\n",
       "      <th>5</th>\n",
       "      <td>2014</td>\n",
       "      <td>3495</td>\n",
       "    </tr>\n",
       "    <tr>\n",
       "      <th>6</th>\n",
       "      <td>2015</td>\n",
       "      <td>3227</td>\n",
       "    </tr>\n",
       "    <tr>\n",
       "      <th>7</th>\n",
       "      <td>2016</td>\n",
       "      <td>814</td>\n",
       "    </tr>\n",
       "  </tbody>\n",
       "</table>\n",
       "</div>"
      ],
      "text/plain": [
       "   year     0\n",
       "0  2009   835\n",
       "1  2010  3906\n",
       "2  2011  2389\n",
       "3  2012  2140\n",
       "4  2013  2865\n",
       "5  2014  3495\n",
       "6  2015  3227\n",
       "7  2016   814"
      ]
     },
     "execution_count": 15,
     "metadata": {},
     "output_type": "execute_result"
    }
   ],
   "source": [
    "dfsmr2"
   ]
  },
  {
   "cell_type": "code",
   "execution_count": 16,
   "metadata": {},
   "outputs": [
    {
     "data": {
      "text/plain": [
       "7130"
      ]
     },
     "execution_count": 16,
     "metadata": {},
     "output_type": "execute_result"
    }
   ],
   "source": [
    "dfsmr2[dfsmr2['year'] <= 2011][0].sum()"
   ]
  },
  {
   "cell_type": "code",
   "execution_count": 17,
   "metadata": {},
   "outputs": [
    {
     "data": {
      "text/plain": [
       "8500"
      ]
     },
     "execution_count": 17,
     "metadata": {},
     "output_type": "execute_result"
    }
   ],
   "source": [
    "dfsmr2[(dfsmr2['year'] > 2011) & (dfsmr2['year'] <= 2014)][0].sum()"
   ]
  },
  {
   "cell_type": "code",
   "execution_count": 18,
   "metadata": {},
   "outputs": [
    {
     "data": {
      "text/plain": [
       "4041"
      ]
     },
     "execution_count": 18,
     "metadata": {},
     "output_type": "execute_result"
    }
   ],
   "source": [
    "dfsmr2[dfsmr2['year'] > 2014][0].sum()"
   ]
  },
  {
   "cell_type": "markdown",
   "metadata": {},
   "source": [
    "**Landsat launch dates are:**\n",
    " - Landsat 8: February 11, 2013 - current\n",
    " - Landsat 7: April 15, 1999 - current\n",
    " - Landsat 5: March 1, 1984 –  November 2011"
   ]
  },
  {
   "cell_type": "markdown",
   "metadata": {},
   "source": [
    "Considering the distribution of data and the dates of the individual satellites, it would seem that a reasonable approach would be splitting into two 4-year groups. One from 2009 to 2012 (inclusive) the other one from 2013 to 2016 (inclusive). That way I'm splitting the \"bad years\" (mid 2012 to mid"
   ]
  },
  {
   "cell_type": "code",
   "execution_count": null,
   "metadata": {
    "collapsed": true
   },
   "outputs": [],
   "source": []
  },
  {
   "cell_type": "code",
   "execution_count": null,
   "metadata": {
    "collapsed": true
   },
   "outputs": [],
   "source": []
  },
  {
   "cell_type": "markdown",
   "metadata": {},
   "source": [
    "# Get EE Feature Collection from DHS fusion table"
   ]
  },
  {
   "cell_type": "markdown",
   "metadata": {},
   "source": [
    "NOTE: the 'dhs_all_locations.csv' file is uploaded to a Fusion Table, and lat/lon columns are set as the default location columns."
   ]
  },
  {
   "cell_type": "code",
   "execution_count": 19,
   "metadata": {
    "collapsed": true
   },
   "outputs": [],
   "source": [
    "dhsfc = ee.FeatureCollection('ft:1lFCM5_0xgkHG2-dBKB2WCuQnFHCecO7z_4VOLrhA')"
   ]
  },
  {
   "cell_type": "code",
   "execution_count": 20,
   "metadata": {},
   "outputs": [
    {
     "data": {
      "text/plain": [
       "{u'geometry': {u'coordinates': [-17.4405209, 14.6754311],\n",
       "  u'geodesic': True,\n",
       "  u'type': u'Point'},\n",
       " u'id': u'2',\n",
       " u'properties': {u'cluster_index': 1.0,\n",
       "  u'country': u'senegal',\n",
       "  u'households': 21.0,\n",
       "  u'indx': 0.0,\n",
       "  u'lon': -17.440520907,\n",
       "  u'urban_rural': 1.0,\n",
       "  u'wealth': 1.70810377598,\n",
       "  u'wealthpooled': 1.59837913513,\n",
       "  u'wealthpooled5country': 1.37775063515,\n",
       "  u'year': 2012.0},\n",
       " u'type': u'Feature'}"
      ]
     },
     "execution_count": 20,
     "metadata": {},
     "output_type": "execute_result"
    }
   ],
   "source": [
    "dhsfc.first().getInfo()"
   ]
  },
  {
   "cell_type": "code",
   "execution_count": 21,
   "metadata": {
    "collapsed": true
   },
   "outputs": [],
   "source": [
    "countries = dhsfc.distinct('country').aggregate_array('country').getInfo()"
   ]
  },
  {
   "cell_type": "code",
   "execution_count": 22,
   "metadata": {},
   "outputs": [
    {
     "data": {
      "text/plain": [
       "[u'senegal',\n",
       " u'benin',\n",
       " u'malawi',\n",
       " u'ghana',\n",
       " u'mozambique',\n",
       " u'tanzania',\n",
       " u'ethiopia',\n",
       " u'zambia',\n",
       " u'nigeria',\n",
       " u'cote_d_ivoire',\n",
       " u'angola',\n",
       " u'burkina_faso',\n",
       " u'cameroon',\n",
       " u'uganda',\n",
       " u'zimbabwe',\n",
       " u'rwanda',\n",
       " u'drc',\n",
       " u'guinea',\n",
       " u'mali',\n",
       " u'togo',\n",
       " u'lesotho',\n",
       " u'sierra_leone',\n",
       " u'kenya']"
      ]
     },
     "execution_count": 22,
     "metadata": {},
     "output_type": "execute_result"
    }
   ],
   "source": [
    "countries"
   ]
  },
  {
   "cell_type": "code",
   "execution_count": 23,
   "metadata": {
    "collapsed": true
   },
   "outputs": [],
   "source": [
    "cnums = range(1, len(countries)+1)\n",
    "cdict = dict(zip(cnums, countries))\n",
    "dhsfc = dhsfc.remap(countries, cnums, 'country')"
   ]
  },
  {
   "cell_type": "code",
   "execution_count": 24,
   "metadata": {},
   "outputs": [
    {
     "data": {
      "text/plain": [
       "{u'geometry': {u'coordinates': [-17.4405209, 14.6754311],\n",
       "  u'geodesic': True,\n",
       "  u'type': u'Point'},\n",
       " u'id': u'2',\n",
       " u'properties': {u'cluster_index': 1.0,\n",
       "  u'country': 1,\n",
       "  u'households': 21.0,\n",
       "  u'indx': 0.0,\n",
       "  u'lon': -17.440520907,\n",
       "  u'urban_rural': 1.0,\n",
       "  u'wealth': 1.70810377598,\n",
       "  u'wealthpooled': 1.59837913513,\n",
       "  u'wealthpooled5country': 1.37775063515,\n",
       "  u'year': 2012.0},\n",
       " u'type': u'Feature'}"
      ]
     },
     "execution_count": 24,
     "metadata": {},
     "output_type": "execute_result"
    }
   ],
   "source": [
    "dhsfc.first().getInfo()"
   ]
  },
  {
   "cell_type": "code",
   "execution_count": 25,
   "metadata": {
    "collapsed": true
   },
   "outputs": [],
   "source": [
    "# cdict"
   ]
  },
  {
   "cell_type": "code",
   "execution_count": 26,
   "metadata": {
    "collapsed": true
   },
   "outputs": [],
   "source": [
    "dhsfc_oldest = dhsfc.filter(ee.Filter.lte('year', 2011))\n",
    "\n",
    "dhsfc_middle = dhsfc.filter([ee.Filter.gt('year', 2011),\n",
    "                            ee.Filter.lte('year', 2014)])\n",
    "\n",
    "dhsfc_recent = dhsfc.filter(ee.Filter.gt('year', 2014))"
   ]
  },
  {
   "cell_type": "code",
   "execution_count": 27,
   "metadata": {},
   "outputs": [
    {
     "data": {
      "text/plain": [
       "7130"
      ]
     },
     "execution_count": 27,
     "metadata": {},
     "output_type": "execute_result"
    }
   ],
   "source": [
    "dhsfc_oldest.size().getInfo()"
   ]
  },
  {
   "cell_type": "code",
   "execution_count": 28,
   "metadata": {},
   "outputs": [
    {
     "data": {
      "text/plain": [
       "8500"
      ]
     },
     "execution_count": 28,
     "metadata": {},
     "output_type": "execute_result"
    }
   ],
   "source": [
    "dhsfc_middle.size().getInfo()"
   ]
  },
  {
   "cell_type": "code",
   "execution_count": 29,
   "metadata": {},
   "outputs": [
    {
     "data": {
      "text/plain": [
       "4041"
      ]
     },
     "execution_count": 29,
     "metadata": {},
     "output_type": "execute_result"
    }
   ],
   "source": [
    "dhsfc_recent.size().getInfo()"
   ]
  },
  {
   "cell_type": "markdown",
   "metadata": {},
   "source": [
    "# Generate multi-year composites"
   ]
  },
  {
   "cell_type": "code",
   "execution_count": 30,
   "metadata": {
    "collapsed": true
   },
   "outputs": [],
   "source": [
    "selbands = ['BLUE', 'GREEN', 'RED', 'NIR', 'SWIR1', 'SWIR2', 'TEMP1']  # these are consistent for all Lx"
   ]
  },
  {
   "cell_type": "markdown",
   "metadata": {},
   "source": [
    "### Recent branch"
   ]
  },
  {
   "cell_type": "code",
   "execution_count": 31,
   "metadata": {
    "collapsed": true
   },
   "outputs": [],
   "source": [
    "roi_recent = dhsfc_recent.geometry()\n",
    "srcoll_recent = optx.LandsatSR(roi_recent, '2015-1-1', '2017-12-31').mergedqam\n",
    "srmedian_recent = srcoll_recent.select(selbands).median().reproject('EPSG:3857', None, 30)\n",
    "srmedian_recent = imgtools.add_latlon(srmedian_recent)"
   ]
  },
  {
   "cell_type": "markdown",
   "metadata": {},
   "source": [
    "### Middle Branch"
   ]
  },
  {
   "cell_type": "code",
   "execution_count": 32,
   "metadata": {
    "collapsed": true
   },
   "outputs": [],
   "source": [
    "roi_mid = dhsfc_middle.geometry()\n",
    "srcoll_mid = optx.LandsatSR(roi_mid, '2012-1-1', '2014-12-31').mergedqam\n",
    "# srcoll_older = srcoll_older.map(lambda img: imgtools.add_latlon(img))\n",
    "srmedian_mid = srcoll_mid.select(selbands).median().reproject('EPSG:3857', None, 30)\n",
    "srmedian_mid = imgtools.add_latlon(srmedian_mid)"
   ]
  },
  {
   "cell_type": "markdown",
   "metadata": {},
   "source": [
    "### Oldest Branch"
   ]
  },
  {
   "cell_type": "code",
   "execution_count": 33,
   "metadata": {
    "collapsed": true
   },
   "outputs": [],
   "source": [
    "roi_oldest = dhsfc_oldest.geometry()\n",
    "srcoll_oldest = optx.LandsatSR(roi_oldest, '2009-1-1', '2011-12-31').mergedqam\n",
    "# srcoll_older = srcoll_older.map(lambda img: imgtools.add_latlon(img))\n",
    "srmedian_oldest = srcoll_oldest.select(selbands).median().reproject('EPSG:3857', None, 30)\n",
    "srmedian_oldest = imgtools.add_latlon(srmedian_oldest)"
   ]
  },
  {
   "cell_type": "code",
   "execution_count": null,
   "metadata": {
    "collapsed": true
   },
   "outputs": [],
   "source": []
  },
  {
   "cell_type": "markdown",
   "metadata": {},
   "source": [
    "# Add nightlights"
   ]
  },
  {
   "cell_type": "code",
   "execution_count": 34,
   "metadata": {
    "collapsed": true
   },
   "outputs": [],
   "source": [
    "viirs = ee.ImageCollection(\"NOAA/VIIRS/DNB/MONTHLY_V1/VCMSLCFG\")\n",
    "dmsp = ee.ImageCollection(\"NOAA/DMSP-OLS/CALIBRATED_LIGHTS_V4\")"
   ]
  },
  {
   "cell_type": "code",
   "execution_count": 35,
   "metadata": {
    "collapsed": true
   },
   "outputs": [],
   "source": [
    "nlband = ['NIGHTLIGHTS']\n",
    "viirs_recent = viirs.filterDate('2015-1-1', '2017-12-31').median().select([0],nlband)\n",
    "viirs_mid = viirs.filterDate('2012-1-1', '2014-12-31').median().select([0],nlband)\n",
    "dmsp_oldest = dmsp.filterDate('2009-1-1', '2011-12-31').median().select([0],nlband)"
   ]
  },
  {
   "cell_type": "code",
   "execution_count": 36,
   "metadata": {
    "collapsed": true
   },
   "outputs": [],
   "source": [
    "srmedian_recent = srmedian_recent.addBands(viirs_recent.reproject('EPSG:3857', None, 30))\n",
    "srmedian_mid = srmedian_mid.addBands(viirs_mid.reproject('EPSG:3857', None, 30))\n",
    "srmedian_oldest = srmedian_oldest.addBands(dmsp_oldest.reproject('EPSG:3857', None, 30))"
   ]
  },
  {
   "cell_type": "code",
   "execution_count": null,
   "metadata": {
    "collapsed": true
   },
   "outputs": [],
   "source": []
  },
  {
   "cell_type": "markdown",
   "metadata": {},
   "source": [
    "# Add topography"
   ]
  },
  {
   "cell_type": "code",
   "execution_count": 37,
   "metadata": {
    "collapsed": true
   },
   "outputs": [],
   "source": [
    "dem = ee.Image(\"USGS/SRTMGL1_003\");"
   ]
  },
  {
   "cell_type": "code",
   "execution_count": 38,
   "metadata": {
    "collapsed": true
   },
   "outputs": [],
   "source": [
    "tbands = ['ELEV','SLO', 'ASP']\n",
    "topogr = ee.Algorithms.Terrain(dem).select(['elevation', 'slope', 'aspect'], tbands);"
   ]
  },
  {
   "cell_type": "code",
   "execution_count": 39,
   "metadata": {
    "collapsed": true
   },
   "outputs": [],
   "source": [
    "srmedian_recent = srmedian_recent.addBands(topogr.reproject('EPSG:3857', None, 30))\n",
    "srmedian_mid = srmedian_mid.addBands(topogr.reproject('EPSG:3857', None, 30))\n",
    "srmedian_oldest = srmedian_oldest.addBands(topogr.reproject('EPSG:3857', None, 30))"
   ]
  },
  {
   "cell_type": "markdown",
   "metadata": {},
   "source": [
    "# Create TF records from DHS locations"
   ]
  },
  {
   "cell_type": "code",
   "execution_count": 40,
   "metadata": {
    "collapsed": true
   },
   "outputs": [],
   "source": [
    "from gee_tools.ai_io import ee_tf_exports as tfexp"
   ]
  },
  {
   "cell_type": "markdown",
   "metadata": {},
   "source": [
    "### Testing single patch from composite"
   ]
  },
  {
   "cell_type": "code",
   "execution_count": 41,
   "metadata": {
    "collapsed": true
   },
   "outputs": [],
   "source": [
    "kern = ee.Kernel.square(5,'pixels')\n",
    "# kern = ee.Kernel.square(127,'pixels')\n",
    "patches_array = srmedian_recent.neighborhoodToArray(kern)\n",
    "pt = ee.Feature(dhsfc_recent.first())\n",
    "samplep = tfexp._sample_patch(pt, patches_array, 30)"
   ]
  },
  {
   "cell_type": "code",
   "execution_count": 42,
   "metadata": {},
   "outputs": [
    {
     "data": {
      "text/plain": [
       "{u'geometry': None,\n",
       " u'id': u'0',\n",
       " u'properties': {u'ASP': [[333, 320, 346, 9, 11, 11, 0, 0, 14, 64, 53],\n",
       "   [304, 323, 351, 338, 346, 0, 18, 14, 11, 18, 51],\n",
       "   [304, 323, 351, 338, 346, 0, 18, 14, 11, 18, 51],\n",
       "   [270, 346, 342, 349, 338, 0, 22, 18, 23, 18, 21],\n",
       "   [0, 0, 0, 0, 344, 0, 23, 17, 20, 17, 13],\n",
       "   [349, 353, 7, 0, 344, 0, 29, 31, 14, 6, 7],\n",
       "   [347, 347, 354, 352, 353, 13, 29, 37, 18, 352, 338],\n",
       "   [347, 354, 355, 354, 0, 5, 18, 31, 14, 337, 315],\n",
       "   [356, 0, 0, 356, 4, 11, 11, 11, 0, 331, 324],\n",
       "   [4, 352, 355, 0, 9, 15, 354, 352, 9, 333, 319],\n",
       "   [352, 342, 351, 0, 355, 352, 351, 352, 11, 329, 323]],\n",
       "  u'BLUE': [[0.055600000000000004,\n",
       "    0.057300000000000004,\n",
       "    0.05500000000000001,\n",
       "    0.0543,\n",
       "    0.054650000000000004,\n",
       "    0.05285,\n",
       "    0.0519,\n",
       "    0.0514,\n",
       "    0.056600000000000004,\n",
       "    0.0594,\n",
       "    0.06685],\n",
       "   [0.06330000000000001,\n",
       "    0.0579,\n",
       "    0.054400000000000004,\n",
       "    0.05505,\n",
       "    0.05500000000000001,\n",
       "    0.0568,\n",
       "    0.0582,\n",
       "    0.0608,\n",
       "    0.059800000000000006,\n",
       "    0.057300000000000004,\n",
       "    0.06330000000000001],\n",
       "   [0.062,\n",
       "    0.0614,\n",
       "    0.059500000000000004,\n",
       "    0.0574,\n",
       "    0.0614,\n",
       "    0.0579,\n",
       "    0.0524,\n",
       "    0.0596,\n",
       "    0.058050000000000004,\n",
       "    0.057,\n",
       "    0.0536],\n",
       "   [0.052000000000000005,\n",
       "    0.052000000000000005,\n",
       "    0.0528,\n",
       "    0.053000000000000005,\n",
       "    0.05160000000000001,\n",
       "    0.05155,\n",
       "    0.0456,\n",
       "    0.0507,\n",
       "    0.0526,\n",
       "    0.05210000000000001,\n",
       "    0.0502],\n",
       "   [0.0586,\n",
       "    0.0497,\n",
       "    0.048,\n",
       "    0.051000000000000004,\n",
       "    0.047900000000000005,\n",
       "    0.0517,\n",
       "    0.05075,\n",
       "    0.0458,\n",
       "    0.0473,\n",
       "    0.044500000000000005,\n",
       "    0.04675],\n",
       "   [0.050100000000000006,\n",
       "    0.0485,\n",
       "    0.049600000000000005,\n",
       "    0.0494,\n",
       "    0.047900000000000005,\n",
       "    0.049350000000000005,\n",
       "    0.048150000000000005,\n",
       "    0.0442,\n",
       "    0.04605000000000001,\n",
       "    0.049,\n",
       "    0.0453],\n",
       "   [0.0505,\n",
       "    0.0461,\n",
       "    0.0483,\n",
       "    0.0472,\n",
       "    0.0473,\n",
       "    0.049,\n",
       "    0.046400000000000004,\n",
       "    0.0468,\n",
       "    0.0458,\n",
       "    0.0534,\n",
       "    0.049350000000000005],\n",
       "   [0.049,\n",
       "    0.0442,\n",
       "    0.0459,\n",
       "    0.045700000000000005,\n",
       "    0.048400000000000006,\n",
       "    0.0439,\n",
       "    0.0442,\n",
       "    0.0512,\n",
       "    0.05215,\n",
       "    0.0502,\n",
       "    0.04675],\n",
       "   [0.045,\n",
       "    0.0439,\n",
       "    0.0426,\n",
       "    0.04195,\n",
       "    0.0431,\n",
       "    0.039099999999999996,\n",
       "    0.0426,\n",
       "    0.0473,\n",
       "    0.05255,\n",
       "    0.04735,\n",
       "    0.0441],\n",
       "   [0.0417,\n",
       "    0.04475,\n",
       "    0.0409,\n",
       "    0.0421,\n",
       "    0.0405,\n",
       "    0.0409,\n",
       "    0.0438,\n",
       "    0.044050000000000006,\n",
       "    0.047450000000000006,\n",
       "    0.05215,\n",
       "    0.048100000000000004],\n",
       "   [0.04235,\n",
       "    0.03945,\n",
       "    0.04525,\n",
       "    0.0432,\n",
       "    0.041150000000000006,\n",
       "    0.0438,\n",
       "    0.044000000000000004,\n",
       "    0.04225,\n",
       "    0.047400000000000005,\n",
       "    0.051500000000000004,\n",
       "    0.05625]],\n",
       "  u'ELEV': [[1364, 1366, 1369, 1368, 1368, 1367, 1367, 1367, 1367, 1366, 1363],\n",
       "   [1361, 1364, 1364, 1365, 1366, 1366, 1366, 1365, 1365, 1364, 1363],\n",
       "   [1361, 1364, 1364, 1365, 1366, 1366, 1366, 1365, 1365, 1364, 1363],\n",
       "   [1362, 1362, 1363, 1363, 1364, 1365, 1364, 1363, 1362, 1360, 1359],\n",
       "   [1361, 1360, 1361, 1360, 1361, 1362, 1361, 1359, 1358, 1355, 1355],\n",
       "   [1356, 1357, 1357, 1356, 1357, 1358, 1357, 1353, 1351, 1350, 1350],\n",
       "   [1351, 1352, 1353, 1353, 1354, 1354, 1352, 1349, 1346, 1346, 1347],\n",
       "   [1347, 1348, 1348, 1349, 1349, 1349, 1348, 1345, 1342, 1343, 1345],\n",
       "   [1342, 1343, 1342, 1343, 1343, 1342, 1340, 1339, 1338, 1339, 1343],\n",
       "   [1334, 1335, 1336, 1336, 1336, 1334, 1333, 1335, 1334, 1334, 1338],\n",
       "   [1326, 1328, 1330, 1330, 1330, 1331, 1331, 1332, 1332, 1331, 1335]],\n",
       "  u'GREEN': [[0.0855,\n",
       "    0.0821,\n",
       "    0.08499999999999999,\n",
       "    0.08085,\n",
       "    0.0799,\n",
       "    0.07844999999999999,\n",
       "    0.07975,\n",
       "    0.08115,\n",
       "    0.0852,\n",
       "    0.09190000000000001,\n",
       "    0.10385],\n",
       "   [0.0969,\n",
       "    0.08660000000000001,\n",
       "    0.0853,\n",
       "    0.0805,\n",
       "    0.0801,\n",
       "    0.083,\n",
       "    0.0863,\n",
       "    0.09040000000000001,\n",
       "    0.09235000000000002,\n",
       "    0.08875,\n",
       "    0.1009],\n",
       "   [0.0944,\n",
       "    0.0912,\n",
       "    0.0915,\n",
       "    0.0887,\n",
       "    0.09240000000000001,\n",
       "    0.0896,\n",
       "    0.08175,\n",
       "    0.0951,\n",
       "    0.09155,\n",
       "    0.0882,\n",
       "    0.08660000000000001],\n",
       "   [0.0844,\n",
       "    0.07780000000000001,\n",
       "    0.0806,\n",
       "    0.0821,\n",
       "    0.08335000000000001,\n",
       "    0.079,\n",
       "    0.0728,\n",
       "    0.0825,\n",
       "    0.08700000000000001,\n",
       "    0.0815,\n",
       "    0.0835],\n",
       "   [0.08555000000000001,\n",
       "    0.07595,\n",
       "    0.0703,\n",
       "    0.0751,\n",
       "    0.07490000000000001,\n",
       "    0.0781,\n",
       "    0.0822,\n",
       "    0.0772,\n",
       "    0.0762,\n",
       "    0.0765,\n",
       "    0.07655],\n",
       "   [0.07735,\n",
       "    0.07435,\n",
       "    0.0722,\n",
       "    0.075,\n",
       "    0.0761,\n",
       "    0.0797,\n",
       "    0.07715000000000001,\n",
       "    0.0727,\n",
       "    0.0723,\n",
       "    0.07700000000000001,\n",
       "    0.0729],\n",
       "   [0.07475000000000001,\n",
       "    0.0762,\n",
       "    0.0766,\n",
       "    0.0776,\n",
       "    0.07390000000000001,\n",
       "    0.0741,\n",
       "    0.0733,\n",
       "    0.07490000000000001,\n",
       "    0.0765,\n",
       "    0.078,\n",
       "    0.07665],\n",
       "   [0.07200000000000001,\n",
       "    0.07200000000000001,\n",
       "    0.07400000000000001,\n",
       "    0.0741,\n",
       "    0.07490000000000001,\n",
       "    0.0713,\n",
       "    0.0732,\n",
       "    0.0799,\n",
       "    0.08045,\n",
       "    0.07390000000000001,\n",
       "    0.07205],\n",
       "   [0.06920000000000001,\n",
       "    0.0692,\n",
       "    0.0704,\n",
       "    0.07175000000000001,\n",
       "    0.0728,\n",
       "    0.0699,\n",
       "    0.07445,\n",
       "    0.07980000000000001,\n",
       "    0.0809,\n",
       "    0.0751,\n",
       "    0.0687],\n",
       "   [0.0698,\n",
       "    0.07200000000000001,\n",
       "    0.07100000000000001,\n",
       "    0.07195000000000001,\n",
       "    0.07195000000000001,\n",
       "    0.07200000000000001,\n",
       "    0.0747,\n",
       "    0.0752,\n",
       "    0.07615,\n",
       "    0.07835,\n",
       "    0.0777],\n",
       "   [0.06820000000000001,\n",
       "    0.0701,\n",
       "    0.0774,\n",
       "    0.07490000000000001,\n",
       "    0.07415000000000001,\n",
       "    0.077,\n",
       "    0.07400000000000001,\n",
       "    0.0732,\n",
       "    0.0785,\n",
       "    0.0795,\n",
       "    0.09040000000000001]],\n",
       "  u'LAT': [[-4.727624963614031,\n",
       "    -4.727624963614031,\n",
       "    -4.727624963614031,\n",
       "    -4.727624963614031,\n",
       "    -4.727624963614031,\n",
       "    -4.727624963614031,\n",
       "    -4.727624963614031,\n",
       "    -4.727624963614031,\n",
       "    -4.727624963614031,\n",
       "    -4.727624963614031,\n",
       "    -4.727624963614031],\n",
       "   [-4.727356385860748,\n",
       "    -4.727356385860748,\n",
       "    -4.727356385860748,\n",
       "    -4.727356385860748,\n",
       "    -4.727356385860748,\n",
       "    -4.727356385860748,\n",
       "    -4.727356385860748,\n",
       "    -4.727356385860748,\n",
       "    -4.727356385860748,\n",
       "    -4.727356385860748,\n",
       "    -4.727356385860748],\n",
       "   [-4.727087808003359,\n",
       "    -4.727087808003359,\n",
       "    -4.727087808003359,\n",
       "    -4.727087808003359,\n",
       "    -4.727087808003359,\n",
       "    -4.727087808003359,\n",
       "    -4.727087808003359,\n",
       "    -4.727087808003359,\n",
       "    -4.727087808003359,\n",
       "    -4.727087808003359,\n",
       "    -4.727087808003359],\n",
       "   [-4.7268192300418646,\n",
       "    -4.7268192300418646,\n",
       "    -4.7268192300418646,\n",
       "    -4.7268192300418646,\n",
       "    -4.7268192300418646,\n",
       "    -4.7268192300418646,\n",
       "    -4.7268192300418646,\n",
       "    -4.7268192300418646,\n",
       "    -4.7268192300418646,\n",
       "    -4.7268192300418646,\n",
       "    -4.7268192300418646],\n",
       "   [-4.726550651976276,\n",
       "    -4.726550651976276,\n",
       "    -4.726550651976276,\n",
       "    -4.726550651976276,\n",
       "    -4.726550651976276,\n",
       "    -4.726550651976276,\n",
       "    -4.726550651976276,\n",
       "    -4.726550651976276,\n",
       "    -4.726550651976276,\n",
       "    -4.726550651976276,\n",
       "    -4.726550651976276],\n",
       "   [-4.7262820738065825,\n",
       "    -4.7262820738065825,\n",
       "    -4.7262820738065825,\n",
       "    -4.7262820738065825,\n",
       "    -4.7262820738065825,\n",
       "    -4.7262820738065825,\n",
       "    -4.7262820738065825,\n",
       "    -4.7262820738065825,\n",
       "    -4.7262820738065825,\n",
       "    -4.7262820738065825,\n",
       "    -4.7262820738065825],\n",
       "   [-4.726013495532808,\n",
       "    -4.726013495532808,\n",
       "    -4.726013495532808,\n",
       "    -4.726013495532808,\n",
       "    -4.726013495532808,\n",
       "    -4.726013495532808,\n",
       "    -4.726013495532808,\n",
       "    -4.726013495532808,\n",
       "    -4.726013495532808,\n",
       "    -4.726013495532808,\n",
       "    -4.726013495532808],\n",
       "   [-4.72574491715494,\n",
       "    -4.72574491715494,\n",
       "    -4.72574491715494,\n",
       "    -4.72574491715494,\n",
       "    -4.72574491715494,\n",
       "    -4.72574491715494,\n",
       "    -4.72574491715494,\n",
       "    -4.72574491715494,\n",
       "    -4.72574491715494,\n",
       "    -4.72574491715494,\n",
       "    -4.72574491715494],\n",
       "   [-4.725476338673005,\n",
       "    -4.725476338673005,\n",
       "    -4.725476338673005,\n",
       "    -4.725476338673005,\n",
       "    -4.725476338673005,\n",
       "    -4.725476338673005,\n",
       "    -4.725476338673005,\n",
       "    -4.725476338673005,\n",
       "    -4.725476338673005,\n",
       "    -4.725476338673005,\n",
       "    -4.725476338673005],\n",
       "   [-4.7252077600870015,\n",
       "    -4.7252077600870015,\n",
       "    -4.7252077600870015,\n",
       "    -4.7252077600870015,\n",
       "    -4.7252077600870015,\n",
       "    -4.7252077600870015,\n",
       "    -4.7252077600870015,\n",
       "    -4.7252077600870015,\n",
       "    -4.7252077600870015,\n",
       "    -4.7252077600870015,\n",
       "    -4.7252077600870015],\n",
       "   [-4.724939181396918,\n",
       "    -4.724939181396918,\n",
       "    -4.724939181396918,\n",
       "    -4.724939181396918,\n",
       "    -4.724939181396918,\n",
       "    -4.724939181396918,\n",
       "    -4.724939181396918,\n",
       "    -4.724939181396918,\n",
       "    -4.724939181396918,\n",
       "    -4.724939181396918,\n",
       "    -4.724939181396918]],\n",
       "  u'LON': [[35.911366208311435,\n",
       "    35.91163570289667,\n",
       "    35.91190519748191,\n",
       "    35.91217469206714,\n",
       "    35.91244418665238,\n",
       "    35.912713681237605,\n",
       "    35.912983175822845,\n",
       "    35.91325267040808,\n",
       "    35.91352216499332,\n",
       "    35.91379165957855,\n",
       "    35.91406115416379],\n",
       "   [35.911366208311435,\n",
       "    35.91163570289667,\n",
       "    35.91190519748191,\n",
       "    35.91217469206714,\n",
       "    35.91244418665238,\n",
       "    35.912713681237605,\n",
       "    35.912983175822845,\n",
       "    35.91325267040808,\n",
       "    35.91352216499332,\n",
       "    35.91379165957855,\n",
       "    35.91406115416379],\n",
       "   [35.911366208311435,\n",
       "    35.91163570289667,\n",
       "    35.91190519748191,\n",
       "    35.91217469206714,\n",
       "    35.91244418665238,\n",
       "    35.912713681237605,\n",
       "    35.912983175822845,\n",
       "    35.91325267040808,\n",
       "    35.91352216499332,\n",
       "    35.91379165957855,\n",
       "    35.91406115416379],\n",
       "   [35.911366208311435,\n",
       "    35.91163570289667,\n",
       "    35.91190519748191,\n",
       "    35.91217469206714,\n",
       "    35.91244418665238,\n",
       "    35.912713681237605,\n",
       "    35.912983175822845,\n",
       "    35.91325267040808,\n",
       "    35.91352216499332,\n",
       "    35.91379165957855,\n",
       "    35.91406115416379],\n",
       "   [35.911366208311435,\n",
       "    35.91163570289667,\n",
       "    35.91190519748191,\n",
       "    35.91217469206714,\n",
       "    35.91244418665238,\n",
       "    35.912713681237605,\n",
       "    35.912983175822845,\n",
       "    35.91325267040808,\n",
       "    35.91352216499332,\n",
       "    35.91379165957855,\n",
       "    35.91406115416379],\n",
       "   [35.911366208311435,\n",
       "    35.91163570289667,\n",
       "    35.91190519748191,\n",
       "    35.91217469206714,\n",
       "    35.91244418665238,\n",
       "    35.912713681237605,\n",
       "    35.912983175822845,\n",
       "    35.91325267040808,\n",
       "    35.91352216499332,\n",
       "    35.91379165957855,\n",
       "    35.91406115416379],\n",
       "   [35.911366208311435,\n",
       "    35.91163570289667,\n",
       "    35.91190519748191,\n",
       "    35.91217469206714,\n",
       "    35.91244418665238,\n",
       "    35.912713681237605,\n",
       "    35.912983175822845,\n",
       "    35.91325267040808,\n",
       "    35.91352216499332,\n",
       "    35.91379165957855,\n",
       "    35.91406115416379],\n",
       "   [35.911366208311435,\n",
       "    35.91163570289667,\n",
       "    35.91190519748191,\n",
       "    35.91217469206714,\n",
       "    35.91244418665238,\n",
       "    35.912713681237605,\n",
       "    35.912983175822845,\n",
       "    35.91325267040808,\n",
       "    35.91352216499332,\n",
       "    35.91379165957855,\n",
       "    35.91406115416379],\n",
       "   [35.911366208311435,\n",
       "    35.91163570289667,\n",
       "    35.91190519748191,\n",
       "    35.91217469206714,\n",
       "    35.91244418665238,\n",
       "    35.912713681237605,\n",
       "    35.912983175822845,\n",
       "    35.91325267040808,\n",
       "    35.91352216499332,\n",
       "    35.91379165957855,\n",
       "    35.91406115416379],\n",
       "   [35.911366208311435,\n",
       "    35.91163570289667,\n",
       "    35.91190519748191,\n",
       "    35.91217469206714,\n",
       "    35.91244418665238,\n",
       "    35.912713681237605,\n",
       "    35.912983175822845,\n",
       "    35.91325267040808,\n",
       "    35.91352216499332,\n",
       "    35.91379165957855,\n",
       "    35.91406115416379],\n",
       "   [35.911366208311435,\n",
       "    35.91163570289667,\n",
       "    35.91190519748191,\n",
       "    35.91217469206714,\n",
       "    35.91244418665238,\n",
       "    35.912713681237605,\n",
       "    35.912983175822845,\n",
       "    35.91325267040808,\n",
       "    35.91352216499332,\n",
       "    35.91379165957855,\n",
       "    35.91406115416379]],\n",
       "  u'NIGHTLIGHTS': [[0.11236923187971115,\n",
       "    0.11236923187971115,\n",
       "    0.11236923187971115,\n",
       "    0.11236923187971115,\n",
       "    0.11236923187971115,\n",
       "    0.11236923187971115,\n",
       "    0.11236923187971115,\n",
       "    0.11236923187971115,\n",
       "    0.11236923187971115,\n",
       "    0.11236923187971115,\n",
       "    0.11236923187971115],\n",
       "   [0.11236923187971115,\n",
       "    0.11236923187971115,\n",
       "    0.11236923187971115,\n",
       "    0.11236923187971115,\n",
       "    0.11236923187971115,\n",
       "    0.11236923187971115,\n",
       "    0.11236923187971115,\n",
       "    0.11236923187971115,\n",
       "    0.11236923187971115,\n",
       "    0.11236923187971115,\n",
       "    0.11236923187971115],\n",
       "   [0.11236923187971115,\n",
       "    0.11236923187971115,\n",
       "    0.11236923187971115,\n",
       "    0.11236923187971115,\n",
       "    0.11236923187971115,\n",
       "    0.11236923187971115,\n",
       "    0.11236923187971115,\n",
       "    0.11236923187971115,\n",
       "    0.11236923187971115,\n",
       "    0.11236923187971115,\n",
       "    0.11236923187971115],\n",
       "   [0.1259775608778,\n",
       "    0.1259775608778,\n",
       "    0.1259775608778,\n",
       "    0.1259775608778,\n",
       "    0.1259775608778,\n",
       "    0.1259775608778,\n",
       "    0.1259775608778,\n",
       "    0.1259775608778,\n",
       "    0.1259775608778,\n",
       "    0.1259775608778,\n",
       "    0.1259775608778],\n",
       "   [0.1259775608778,\n",
       "    0.1259775608778,\n",
       "    0.1259775608778,\n",
       "    0.1259775608778,\n",
       "    0.1259775608778,\n",
       "    0.1259775608778,\n",
       "    0.1259775608778,\n",
       "    0.1259775608778,\n",
       "    0.1259775608778,\n",
       "    0.1259775608778,\n",
       "    0.1259775608778],\n",
       "   [0.1259775608778,\n",
       "    0.1259775608778,\n",
       "    0.1259775608778,\n",
       "    0.1259775608778,\n",
       "    0.1259775608778,\n",
       "    0.1259775608778,\n",
       "    0.1259775608778,\n",
       "    0.1259775608778,\n",
       "    0.1259775608778,\n",
       "    0.1259775608778,\n",
       "    0.1259775608778],\n",
       "   [0.1259775608778,\n",
       "    0.1259775608778,\n",
       "    0.1259775608778,\n",
       "    0.1259775608778,\n",
       "    0.1259775608778,\n",
       "    0.1259775608778,\n",
       "    0.1259775608778,\n",
       "    0.1259775608778,\n",
       "    0.1259775608778,\n",
       "    0.1259775608778,\n",
       "    0.1259775608778],\n",
       "   [0.1259775608778,\n",
       "    0.1259775608778,\n",
       "    0.1259775608778,\n",
       "    0.1259775608778,\n",
       "    0.1259775608778,\n",
       "    0.1259775608778,\n",
       "    0.1259775608778,\n",
       "    0.1259775608778,\n",
       "    0.1259775608778,\n",
       "    0.1259775608778,\n",
       "    0.1259775608778],\n",
       "   [0.1259775608778,\n",
       "    0.1259775608778,\n",
       "    0.1259775608778,\n",
       "    0.1259775608778,\n",
       "    0.1259775608778,\n",
       "    0.1259775608778,\n",
       "    0.1259775608778,\n",
       "    0.1259775608778,\n",
       "    0.1259775608778,\n",
       "    0.1259775608778,\n",
       "    0.1259775608778],\n",
       "   [0.1259775608778,\n",
       "    0.1259775608778,\n",
       "    0.1259775608778,\n",
       "    0.1259775608778,\n",
       "    0.1259775608778,\n",
       "    0.1259775608778,\n",
       "    0.1259775608778,\n",
       "    0.1259775608778,\n",
       "    0.1259775608778,\n",
       "    0.1259775608778,\n",
       "    0.1259775608778],\n",
       "   [0.1259775608778,\n",
       "    0.1259775608778,\n",
       "    0.1259775608778,\n",
       "    0.1259775608778,\n",
       "    0.1259775608778,\n",
       "    0.1259775608778,\n",
       "    0.1259775608778,\n",
       "    0.1259775608778,\n",
       "    0.1259775608778,\n",
       "    0.1259775608778,\n",
       "    0.1259775608778]],\n",
       "  u'NIR': [[0.30060000000000003,\n",
       "    0.2942,\n",
       "    0.27270000000000005,\n",
       "    0.257,\n",
       "    0.25515,\n",
       "    0.25405,\n",
       "    0.2541,\n",
       "    0.25065000000000004,\n",
       "    0.2553,\n",
       "    0.267,\n",
       "    0.28455],\n",
       "   [0.3025,\n",
       "    0.2942,\n",
       "    0.2857,\n",
       "    0.2589,\n",
       "    0.24045,\n",
       "    0.26195,\n",
       "    0.2771,\n",
       "    0.26430000000000003,\n",
       "    0.27265,\n",
       "    0.27345,\n",
       "    0.2931],\n",
       "   [0.28850000000000003,\n",
       "    0.28750000000000003,\n",
       "    0.28950000000000004,\n",
       "    0.28140000000000004,\n",
       "    0.2747,\n",
       "    0.28300000000000003,\n",
       "    0.29075,\n",
       "    0.2896,\n",
       "    0.29195000000000004,\n",
       "    0.28300000000000003,\n",
       "    0.2851],\n",
       "   [0.2671,\n",
       "    0.2664,\n",
       "    0.25830000000000003,\n",
       "    0.2763,\n",
       "    0.28435,\n",
       "    0.29190000000000005,\n",
       "    0.2728,\n",
       "    0.27390000000000003,\n",
       "    0.27890000000000004,\n",
       "    0.26575000000000004,\n",
       "    0.2551],\n",
       "   [0.2731,\n",
       "    0.272,\n",
       "    0.2629,\n",
       "    0.2667,\n",
       "    0.2861,\n",
       "    0.2861,\n",
       "    0.26415,\n",
       "    0.2692,\n",
       "    0.2564,\n",
       "    0.2665,\n",
       "    0.2592],\n",
       "   [0.2662,\n",
       "    0.25770000000000004,\n",
       "    0.258,\n",
       "    0.2541,\n",
       "    0.2816,\n",
       "    0.27215,\n",
       "    0.26485000000000003,\n",
       "    0.2649,\n",
       "    0.26605,\n",
       "    0.28,\n",
       "    0.2686],\n",
       "   [0.26925,\n",
       "    0.25780000000000003,\n",
       "    0.26980000000000004,\n",
       "    0.2636,\n",
       "    0.2642,\n",
       "    0.2659,\n",
       "    0.2707,\n",
       "    0.2757,\n",
       "    0.262,\n",
       "    0.28200000000000003,\n",
       "    0.27685000000000004],\n",
       "   [0.2534,\n",
       "    0.2533,\n",
       "    0.2565,\n",
       "    0.2624,\n",
       "    0.26280000000000003,\n",
       "    0.25720000000000004,\n",
       "    0.2624,\n",
       "    0.2862,\n",
       "    0.2774,\n",
       "    0.2665,\n",
       "    0.25755],\n",
       "   [0.2625,\n",
       "    0.25880000000000003,\n",
       "    0.2541,\n",
       "    0.25415,\n",
       "    0.25550000000000006,\n",
       "    0.26175000000000004,\n",
       "    0.26205,\n",
       "    0.28005,\n",
       "    0.28215,\n",
       "    0.268,\n",
       "    0.24350000000000002],\n",
       "   [0.25025,\n",
       "    0.2614,\n",
       "    0.26175000000000004,\n",
       "    0.26680000000000004,\n",
       "    0.27835,\n",
       "    0.2695,\n",
       "    0.2702,\n",
       "    0.26555,\n",
       "    0.27045,\n",
       "    0.26865,\n",
       "    0.271],\n",
       "   [0.2502,\n",
       "    0.25745,\n",
       "    0.27344999999999997,\n",
       "    0.27880000000000005,\n",
       "    0.28265,\n",
       "    0.2801,\n",
       "    0.26630000000000004,\n",
       "    0.26870000000000005,\n",
       "    0.2808,\n",
       "    0.28700000000000003,\n",
       "    0.28255]],\n",
       "  u'RED': [[0.1066,\n",
       "    0.09820000000000001,\n",
       "    0.10205,\n",
       "    0.09945000000000001,\n",
       "    0.09805,\n",
       "    0.09855,\n",
       "    0.10195000000000001,\n",
       "    0.1054,\n",
       "    0.115,\n",
       "    0.1213,\n",
       "    0.135],\n",
       "   [0.12250000000000001,\n",
       "    0.1051,\n",
       "    0.10400000000000001,\n",
       "    0.09825,\n",
       "    0.1029,\n",
       "    0.10635,\n",
       "    0.11130000000000001,\n",
       "    0.11860000000000001,\n",
       "    0.11855000000000002,\n",
       "    0.1187,\n",
       "    0.13240000000000002],\n",
       "   [0.12050000000000001,\n",
       "    0.109,\n",
       "    0.1075,\n",
       "    0.1111,\n",
       "    0.12010000000000001,\n",
       "    0.1134,\n",
       "    0.11200000000000002,\n",
       "    0.1247,\n",
       "    0.11855000000000002,\n",
       "    0.1143,\n",
       "    0.1143],\n",
       "   [0.1014,\n",
       "    0.0951,\n",
       "    0.09530000000000001,\n",
       "    0.1014,\n",
       "    0.1003,\n",
       "    0.09645000000000001,\n",
       "    0.0816,\n",
       "    0.1,\n",
       "    0.1101,\n",
       "    0.09965,\n",
       "    0.1047],\n",
       "   [0.09725,\n",
       "    0.08485000000000001,\n",
       "    0.0765,\n",
       "    0.0801,\n",
       "    0.08410000000000001,\n",
       "    0.09670000000000001,\n",
       "    0.08755,\n",
       "    0.0863,\n",
       "    0.0888,\n",
       "    0.0809,\n",
       "    0.0895],\n",
       "   [0.08505000000000001,\n",
       "    0.0811,\n",
       "    0.0784,\n",
       "    0.0763,\n",
       "    0.0857,\n",
       "    0.08565,\n",
       "    0.083,\n",
       "    0.0844,\n",
       "    0.07655,\n",
       "    0.08510000000000001,\n",
       "    0.0839],\n",
       "   [0.08325,\n",
       "    0.0811,\n",
       "    0.08900000000000001,\n",
       "    0.08310000000000001,\n",
       "    0.08310000000000001,\n",
       "    0.07830000000000001,\n",
       "    0.075,\n",
       "    0.0809,\n",
       "    0.0858,\n",
       "    0.08360000000000001,\n",
       "    0.08425],\n",
       "   [0.07465000000000001,\n",
       "    0.0775,\n",
       "    0.0784,\n",
       "    0.07930000000000001,\n",
       "    0.08310000000000001,\n",
       "    0.07740000000000001,\n",
       "    0.07930000000000001,\n",
       "    0.0863,\n",
       "    0.08865,\n",
       "    0.0825,\n",
       "    0.0817],\n",
       "   [0.0712,\n",
       "    0.0726,\n",
       "    0.07150000000000001,\n",
       "    0.07450000000000001,\n",
       "    0.0734,\n",
       "    0.068,\n",
       "    0.07465,\n",
       "    0.0868,\n",
       "    0.09625,\n",
       "    0.0817,\n",
       "    0.0761],\n",
       "   [0.07365,\n",
       "    0.07645,\n",
       "    0.0769,\n",
       "    0.0769,\n",
       "    0.0757,\n",
       "    0.07300000000000001,\n",
       "    0.0781,\n",
       "    0.08230000000000001,\n",
       "    0.08055000000000001,\n",
       "    0.08615,\n",
       "    0.08345],\n",
       "   [0.07200000000000001,\n",
       "    0.0711,\n",
       "    0.08030000000000001,\n",
       "    0.07930000000000001,\n",
       "    0.07490000000000001,\n",
       "    0.08120000000000001,\n",
       "    0.08030000000000001,\n",
       "    0.07285,\n",
       "    0.08030000000000001,\n",
       "    0.0897,\n",
       "    0.09965000000000002]],\n",
       "  u'SLO': [[8, 7, 8, 6, 5, 5, 5, 5, 4, 4, 5],\n",
       "   [3, 5, 6, 5, 4, 2, 3, 4, 5, 6, 6],\n",
       "   [3, 5, 6, 5, 4, 2, 3, 4, 5, 6, 6],\n",
       "   [1, 4, 3, 5, 5, 4, 5, 6, 7, 9, 8],\n",
       "   [6, 5, 6, 6, 7, 6, 7, 10, 11, 10, 8],\n",
       "   [9, 7, 7, 6, 7, 7, 9, 11, 11, 8, 7],\n",
       "   [8, 8, 8, 7, 7, 8, 9, 9, 9, 7, 5],\n",
       "   [8, 8, 10, 9, 10, 11, 12, 11, 8, 7, 5],\n",
       "   [12, 12, 11, 12, 12, 14, 14, 9, 7, 9, 8],\n",
       "   [15, 14, 11, 12, 12, 10, 8, 7, 6, 8, 10],\n",
       "   [13, 12, 11, 10, 10, 7, 6, 7, 5, 5, 9]],\n",
       "  u'SWIR1': [[0.31980000000000003,\n",
       "    0.3039,\n",
       "    0.31335,\n",
       "    0.3147,\n",
       "    0.31725000000000003,\n",
       "    0.3124,\n",
       "    0.31584999999999996,\n",
       "    0.3194,\n",
       "    0.338,\n",
       "    0.3553,\n",
       "    0.3871],\n",
       "   [0.3517,\n",
       "    0.3209,\n",
       "    0.3209,\n",
       "    0.3159,\n",
       "    0.3205,\n",
       "    0.33215000000000006,\n",
       "    0.34750000000000003,\n",
       "    0.365,\n",
       "    0.36575,\n",
       "    0.35550000000000004,\n",
       "    0.3677],\n",
       "   [0.35810000000000003,\n",
       "    0.3267,\n",
       "    0.3365,\n",
       "    0.3388,\n",
       "    0.35750000000000004,\n",
       "    0.34340000000000004,\n",
       "    0.3189,\n",
       "    0.3492,\n",
       "    0.34040000000000004,\n",
       "    0.3296,\n",
       "    0.32430000000000003],\n",
       "   [0.29410000000000003,\n",
       "    0.2798,\n",
       "    0.2973,\n",
       "    0.3083,\n",
       "    0.3106,\n",
       "    0.29700000000000004,\n",
       "    0.273,\n",
       "    0.2832,\n",
       "    0.3119,\n",
       "    0.28285000000000005,\n",
       "    0.28240000000000004],\n",
       "   [0.2905,\n",
       "    0.25915,\n",
       "    0.2479,\n",
       "    0.2711,\n",
       "    0.2776,\n",
       "    0.2781,\n",
       "    0.2682,\n",
       "    0.26380000000000003,\n",
       "    0.271,\n",
       "    0.2742,\n",
       "    0.26985000000000003],\n",
       "   [0.2725,\n",
       "    0.26870000000000005,\n",
       "    0.2501,\n",
       "    0.2655,\n",
       "    0.2858,\n",
       "    0.26045,\n",
       "    0.25535,\n",
       "    0.2501,\n",
       "    0.24605000000000002,\n",
       "    0.26115,\n",
       "    0.265],\n",
       "   [0.2724,\n",
       "    0.2627,\n",
       "    0.2847,\n",
       "    0.2558,\n",
       "    0.2577,\n",
       "    0.25,\n",
       "    0.2466,\n",
       "    0.2612,\n",
       "    0.2477,\n",
       "    0.2721,\n",
       "    0.26965000000000006],\n",
       "   [0.2494,\n",
       "    0.25470000000000004,\n",
       "    0.2526,\n",
       "    0.24760000000000001,\n",
       "    0.2627,\n",
       "    0.2412,\n",
       "    0.24530000000000002,\n",
       "    0.2725,\n",
       "    0.2801,\n",
       "    0.2677,\n",
       "    0.2591],\n",
       "   [0.22905000000000003,\n",
       "    0.2288,\n",
       "    0.2349,\n",
       "    0.23295000000000002,\n",
       "    0.22895000000000001,\n",
       "    0.2273,\n",
       "    0.24645,\n",
       "    0.28605,\n",
       "    0.29974999999999996,\n",
       "    0.26760000000000006,\n",
       "    0.2446],\n",
       "   [0.22725,\n",
       "    0.22765000000000002,\n",
       "    0.2364,\n",
       "    0.24920000000000003,\n",
       "    0.2359,\n",
       "    0.23820000000000002,\n",
       "    0.24530000000000002,\n",
       "    0.2732,\n",
       "    0.26865000000000006,\n",
       "    0.27354999999999996,\n",
       "    0.2576],\n",
       "   [0.22285000000000002,\n",
       "    0.2194,\n",
       "    0.25235,\n",
       "    0.26055,\n",
       "    0.246,\n",
       "    0.2612,\n",
       "    0.25070000000000003,\n",
       "    0.24115000000000003,\n",
       "    0.2531,\n",
       "    0.274,\n",
       "    0.28165]],\n",
       "  u'SWIR2': [[0.2066,\n",
       "    0.1895,\n",
       "    0.20145000000000002,\n",
       "    0.20415,\n",
       "    0.20980000000000001,\n",
       "    0.2071,\n",
       "    0.2078,\n",
       "    0.21635,\n",
       "    0.2311,\n",
       "    0.24365000000000003,\n",
       "    0.2738],\n",
       "   [0.2474,\n",
       "    0.20420000000000002,\n",
       "    0.2099,\n",
       "    0.20390000000000003,\n",
       "    0.21755000000000002,\n",
       "    0.21615,\n",
       "    0.225,\n",
       "    0.2504,\n",
       "    0.2508,\n",
       "    0.2344,\n",
       "    0.2681],\n",
       "   [0.2442,\n",
       "    0.216,\n",
       "    0.2202,\n",
       "    0.22030000000000002,\n",
       "    0.2538,\n",
       "    0.23390000000000002,\n",
       "    0.20990000000000003,\n",
       "    0.2556,\n",
       "    0.2228,\n",
       "    0.2343,\n",
       "    0.2199],\n",
       "   [0.1995,\n",
       "    0.16490000000000002,\n",
       "    0.2015,\n",
       "    0.1963,\n",
       "    0.1986,\n",
       "    0.19275000000000003,\n",
       "    0.1648,\n",
       "    0.18610000000000002,\n",
       "    0.2134,\n",
       "    0.1925,\n",
       "    0.19770000000000001],\n",
       "   [0.19640000000000002,\n",
       "    0.15505000000000002,\n",
       "    0.14750000000000002,\n",
       "    0.16340000000000002,\n",
       "    0.1673,\n",
       "    0.1724,\n",
       "    0.17795,\n",
       "    0.1673,\n",
       "    0.168,\n",
       "    0.1673,\n",
       "    0.17725000000000002],\n",
       "   [0.17095000000000002,\n",
       "    0.16620000000000001,\n",
       "    0.16240000000000002,\n",
       "    0.16640000000000002,\n",
       "    0.184,\n",
       "    0.16725,\n",
       "    0.1624,\n",
       "    0.15810000000000002,\n",
       "    0.1511,\n",
       "    0.1563,\n",
       "    0.15990000000000001],\n",
       "   [0.17065000000000002,\n",
       "    0.16490000000000002,\n",
       "    0.18430000000000002,\n",
       "    0.1769,\n",
       "    0.1544,\n",
       "    0.151,\n",
       "    0.1632,\n",
       "    0.1544,\n",
       "    0.1507,\n",
       "    0.16620000000000001,\n",
       "    0.16440000000000002],\n",
       "   [0.15565,\n",
       "    0.15710000000000002,\n",
       "    0.1597,\n",
       "    0.151,\n",
       "    0.1754,\n",
       "    0.1423,\n",
       "    0.1476,\n",
       "    0.1723,\n",
       "    0.17135,\n",
       "    0.158,\n",
       "    0.15725],\n",
       "   [0.13885,\n",
       "    0.1371,\n",
       "    0.1393,\n",
       "    0.14245000000000002,\n",
       "    0.14405,\n",
       "    0.13090000000000002,\n",
       "    0.15135,\n",
       "    0.1713,\n",
       "    0.18315,\n",
       "    0.16110000000000002,\n",
       "    0.1531],\n",
       "   [0.13285000000000002,\n",
       "    0.1346,\n",
       "    0.14355,\n",
       "    0.1513,\n",
       "    0.1428,\n",
       "    0.1396,\n",
       "    0.1519,\n",
       "    0.17535,\n",
       "    0.1639,\n",
       "    0.16855,\n",
       "    0.16315000000000002],\n",
       "   [0.13935,\n",
       "    0.1232,\n",
       "    0.1592,\n",
       "    0.15665,\n",
       "    0.15245000000000003,\n",
       "    0.1552,\n",
       "    0.1544,\n",
       "    0.1522,\n",
       "    0.1615,\n",
       "    0.16670000000000001,\n",
       "    0.1794]],\n",
       "  u'TEMP1': [[299.5,\n",
       "    299.3,\n",
       "    299.15,\n",
       "    299.0,\n",
       "    299.1,\n",
       "    299.5,\n",
       "    299.5,\n",
       "    299.6,\n",
       "    300.0,\n",
       "    300.1,\n",
       "    300.0],\n",
       "   [299.5,\n",
       "    299.5,\n",
       "    299.3,\n",
       "    299.45000000000005,\n",
       "    299.5,\n",
       "    299.65,\n",
       "    299.7,\n",
       "    300.0,\n",
       "    300.0,\n",
       "    300.1,\n",
       "    300.0],\n",
       "   [299.3,\n",
       "    299.40000000000003,\n",
       "    299.5,\n",
       "    299.7,\n",
       "    300.0,\n",
       "    300.0,\n",
       "    300.1,\n",
       "    300.0,\n",
       "    300.15,\n",
       "    300.1,\n",
       "    300.0],\n",
       "   [299.5,\n",
       "    299.2,\n",
       "    299.5,\n",
       "    299.5,\n",
       "    299.5,\n",
       "    300.0,\n",
       "    300.0,\n",
       "    299.90000000000003,\n",
       "    299.90000000000003,\n",
       "    299.8,\n",
       "    299.6],\n",
       "   [299.0,\n",
       "    299.15,\n",
       "    299.40000000000003,\n",
       "    299.5,\n",
       "    299.5,\n",
       "    299.5,\n",
       "    299.55,\n",
       "    299.5,\n",
       "    299.5,\n",
       "    299.5,\n",
       "    299.40000000000003],\n",
       "   [298.95000000000005,\n",
       "    299.0,\n",
       "    299.0,\n",
       "    299.0,\n",
       "    299.3,\n",
       "    299.1,\n",
       "    299.15,\n",
       "    299.20000000000005,\n",
       "    299.20000000000005,\n",
       "    299.2,\n",
       "    299.1],\n",
       "   [298.9,\n",
       "    298.90000000000003,\n",
       "    298.90000000000003,\n",
       "    298.90000000000003,\n",
       "    298.90000000000003,\n",
       "    298.8,\n",
       "    298.8,\n",
       "    298.8,\n",
       "    298.8,\n",
       "    298.8,\n",
       "    298.8],\n",
       "   [298.6,\n",
       "    298.7,\n",
       "    298.7,\n",
       "    298.7,\n",
       "    298.7,\n",
       "    298.6,\n",
       "    298.6,\n",
       "    298.6,\n",
       "    298.8,\n",
       "    299.0,\n",
       "    298.95000000000005],\n",
       "   [298.4,\n",
       "    298.5,\n",
       "    298.6,\n",
       "    298.65,\n",
       "    298.55,\n",
       "    298.5,\n",
       "    298.35,\n",
       "    298.35,\n",
       "    298.6,\n",
       "    298.9,\n",
       "    298.90000000000003],\n",
       "   [298.4,\n",
       "    298.55,\n",
       "    298.6,\n",
       "    298.55,\n",
       "    298.55,\n",
       "    298.40000000000003,\n",
       "    298.40000000000003,\n",
       "    298.5,\n",
       "    298.85,\n",
       "    299.20000000000005,\n",
       "    299.1],\n",
       "   [298.6,\n",
       "    298.6,\n",
       "    298.9,\n",
       "    298.9,\n",
       "    298.8,\n",
       "    298.6,\n",
       "    298.6,\n",
       "    298.75,\n",
       "    299.0,\n",
       "    299.1,\n",
       "    299.15]],\n",
       "  u'cluster_index': 1.0,\n",
       "  u'country': 6,\n",
       "  u'households': 22.0,\n",
       "  u'indx': 0.0,\n",
       "  u'lon': 35.912846,\n",
       "  u'urban_rural': 0.0,\n",
       "  u'wealth': -0.679256379604,\n",
       "  u'wealthpooled': -0.445060819387,\n",
       "  u'wealthpooled5country': -0.779251337051,\n",
       "  u'year': 2015.0},\n",
       " u'type': u'Feature'}"
      ]
     },
     "execution_count": 42,
     "metadata": {},
     "output_type": "execute_result"
    }
   ],
   "source": [
    "samplep.getInfo()"
   ]
  },
  {
   "cell_type": "markdown",
   "metadata": {},
   "source": [
    "### Exporting array patches (i.e. full tile in array form) from DHS locations"
   ]
  },
  {
   "cell_type": "code",
   "execution_count": 43,
   "metadata": {},
   "outputs": [],
   "source": [
    "dhsinfo = dhsfc_recent.first().propertyNames().getInfo()"
   ]
  },
  {
   "cell_type": "code",
   "execution_count": 44,
   "metadata": {},
   "outputs": [],
   "source": [
    "bands = selbands+dhsinfo+['LAT', 'LON']+tbands+nlband"
   ]
  },
  {
   "cell_type": "code",
   "execution_count": 45,
   "metadata": {},
   "outputs": [
    {
     "data": {
      "text/plain": [
       "['BLUE',\n",
       " 'GREEN',\n",
       " 'RED',\n",
       " 'NIR',\n",
       " 'SWIR1',\n",
       " 'SWIR2',\n",
       " 'TEMP1',\n",
       " u'wealth',\n",
       " u'country',\n",
       " u'year',\n",
       " u'indx',\n",
       " u'urban_rural',\n",
       " u'wealthpooled',\n",
       " u'cluster_index',\n",
       " u'lon',\n",
       " u'households',\n",
       " u'wealthpooled5country',\n",
       " u'system:index',\n",
       " 'LAT',\n",
       " 'LON',\n",
       " 'ELEV',\n",
       " 'SLO',\n",
       " 'ASP',\n",
       " 'NIGHTLIGHTS']"
      ]
     },
     "execution_count": 45,
     "metadata": {},
     "output_type": "execute_result"
    }
   ],
   "source": [
    "bands"
   ]
  },
  {
   "cell_type": "code",
   "execution_count": 29,
   "metadata": {
    "collapsed": true
   },
   "outputs": [],
   "source": [
    "# test = tfexp.get_array_patches(srmedian_mid, 30, 127, dhsfc_middle, \n",
    "#                      True, True, bands, None, 'eetf_io_tests', \n",
    "#                      'LabeledPatches/', 'lx_median_2012-14_dhslocs_arrays_v3')"
   ]
  },
  {
   "cell_type": "code",
   "execution_count": 30,
   "metadata": {
    "collapsed": true
   },
   "outputs": [],
   "source": [
    "# test = tfexp.get_array_patches(srmedian_recent, 30, 127, dhsfc_recent, \n",
    "#                      True, True, bands, None, 'eetf_io_tests', \n",
    "#                      'LabeledPatches/', 'lx_median_2015-17_dhslocs_arrays_v3')"
   ]
  },
  {
   "cell_type": "code",
   "execution_count": 31,
   "metadata": {
    "collapsed": true
   },
   "outputs": [],
   "source": [
    "# test = tfexp.get_array_patches(srmedian_oldest, 30, 127, dhsfc_oldest, \n",
    "#                      True, True, bands, None, 'eetf_io_tests', \n",
    "#                      'LabeledPatches/', 'lx_median_2009-11_dhslocs_arrays_v3')"
   ]
  },
  {
   "cell_type": "code",
   "execution_count": 32,
   "metadata": {
    "collapsed": true
   },
   "outputs": [],
   "source": [
    "# test.getInfo()"
   ]
  },
  {
   "cell_type": "markdown",
   "metadata": {
    "collapsed": true
   },
   "source": [
    "#### Exporting individual countries"
   ]
  },
  {
   "cell_type": "code",
   "execution_count": 49,
   "metadata": {
    "collapsed": true
   },
   "outputs": [],
   "source": [
    "dhsfc_oldest_cnums = dhsfc_oldest.distinct('country').aggregate_array('country').getInfo()\n",
    "\n",
    "for n in dhsfc_oldest_cnums:\n",
    "    \n",
    "    cname = cdict[n]\n",
    "    fname = 'lx_median_2009-11_'+cname+'_dhslocs_arrays_v3'\n",
    "    \n",
    "    seldhs = dhsfc_oldest.filter(ee.Filter.eq('country',n))\n",
    "    \n",
    "    bands = selbands+dhsinfo+['LAT', 'LON']+tbands+nlband\n",
    "    \n",
    "    test = tfexp.get_array_patches(srmedian_oldest, 30, 127, seldhs, \n",
    "                                   True, True, bands, None, \n",
    "                                   'eetf_io_tests',\n",
    "                                   'LabeledPatches/', \n",
    "                                   fname)"
   ]
  },
  {
   "cell_type": "code",
   "execution_count": 47,
   "metadata": {
    "collapsed": true
   },
   "outputs": [],
   "source": [
    "dhsfc_middle_cnums = dhsfc_middle.distinct('country').aggregate_array('country').getInfo()\n",
    "\n",
    "for n in dhsfc_middle_cnums[2:]:\n",
    "    \n",
    "    cname = cdict[n]\n",
    "    fname = 'lx_median_2012-14_'+cname+'_dhslocs_arrays_v3'\n",
    "    \n",
    "    seldhs = dhsfc_middle.filter(ee.Filter.eq('country',n))\n",
    "    \n",
    "    bands = selbands+dhsinfo+['LAT', 'LON']+tbands+nlband\n",
    "    \n",
    "    test = tfexp.get_array_patches(srmedian_mid, 30, 127, seldhs, \n",
    "                                   True, True, bands, None, \n",
    "                                   'eetf_io_tests',\n",
    "                                   'LabeledPatches/', \n",
    "                                   fname)"
   ]
  },
  {
   "cell_type": "code",
   "execution_count": 48,
   "metadata": {
    "collapsed": true
   },
   "outputs": [],
   "source": [
    "dhsfc_recent_cnums = dhsfc_recent.distinct('country').aggregate_array('country').getInfo()\n",
    "\n",
    "for n in dhsfc_recent_cnums:\n",
    "    \n",
    "    cname = cdict[n]\n",
    "    fname = 'lx_median_2015-17_'+cname+'_dhslocs_arrays_v3'\n",
    "    \n",
    "    seldhs = dhsfc_recent.filter(ee.Filter.eq('country',n))\n",
    "    \n",
    "    bands = selbands+dhsinfo+['LAT', 'LON']+tbands+nlband\n",
    "    \n",
    "    test = tfexp.get_array_patches(srmedian_recent, 30, 127, seldhs, \n",
    "                                   True, True, bands, None, \n",
    "                                   'eetf_io_tests',\n",
    "                                   'LabeledPatches/', \n",
    "                                   fname)"
   ]
  },
  {
   "cell_type": "markdown",
   "metadata": {},
   "source": [
    "### Exporting reduced patches (i.e. tile stats) from DHS locations"
   ]
  },
  {
   "cell_type": "code",
   "execution_count": 44,
   "metadata": {
    "collapsed": true
   },
   "outputs": [],
   "source": [
    "redubands = [item for sublist in [[b+'_mean', b+'_variance'] for b in selbands] for item in sublist]"
   ]
  },
  {
   "cell_type": "code",
   "execution_count": 45,
   "metadata": {},
   "outputs": [
    {
     "data": {
      "text/plain": [
       "['BLUE_mean',\n",
       " 'BLUE_variance',\n",
       " 'GREEN_mean',\n",
       " 'GREEN_variance',\n",
       " 'RED_mean',\n",
       " 'RED_variance',\n",
       " 'NIR_mean',\n",
       " 'NIR_variance',\n",
       " 'SWIR1_mean',\n",
       " 'SWIR1_variance',\n",
       " 'SWIR2_mean',\n",
       " 'SWIR2_variance',\n",
       " 'TEMP1_mean',\n",
       " 'TEMP1_variance']"
      ]
     },
     "execution_count": 45,
     "metadata": {},
     "output_type": "execute_result"
    }
   ],
   "source": [
    "redubands"
   ]
  },
  {
   "cell_type": "code",
   "execution_count": 46,
   "metadata": {
    "collapsed": true
   },
   "outputs": [],
   "source": [
    "# test = tfexp.get_reduced_patches(srmedian_mid, 30, 127, dhsfc_middle, \n",
    "#                      True, True, redubands+dhsinfo+['LAT', 'LON'], None, 'eetf_io_tests', \n",
    "#                      'LabeledPatches/', 'lx_median_2012-14_dhslocs_stats_v2')"
   ]
  },
  {
   "cell_type": "code",
   "execution_count": 47,
   "metadata": {
    "collapsed": true
   },
   "outputs": [],
   "source": [
    "# test = tfexp.get_reduced_patches(srmedian_recent, 30, 127, dhsfc_recent, \n",
    "#                      True, True, redubands+dhsinfo+['LAT', 'LON'], None, 'eetf_io_tests', \n",
    "#                      'LabeledPatches/', 'lx_median_2015-17_dhslocs_stats_v2')"
   ]
  },
  {
   "cell_type": "code",
   "execution_count": 48,
   "metadata": {
    "collapsed": true
   },
   "outputs": [],
   "source": [
    "# test = tfexp.get_reduced_patches(srmedian_oldest, 30, 127, dhsfc_oldest, \n",
    "#                      True, True, redubands+dhsinfo+['LAT', 'LON'], None, 'eetf_io_tests', \n",
    "#                      'LabeledPatches/', 'lx_median_2009-11_dhslocs_stats_v2')"
   ]
  },
  {
   "cell_type": "code",
   "execution_count": null,
   "metadata": {
    "collapsed": true
   },
   "outputs": [],
   "source": []
  },
  {
   "cell_type": "code",
   "execution_count": null,
   "metadata": {
    "collapsed": true
   },
   "outputs": [],
   "source": []
  },
  {
   "cell_type": "code",
   "execution_count": null,
   "metadata": {
    "collapsed": true
   },
   "outputs": [],
   "source": []
  },
  {
   "cell_type": "code",
   "execution_count": null,
   "metadata": {
    "collapsed": true
   },
   "outputs": [],
   "source": []
  }
 ],
 "metadata": {
  "anaconda-cloud": {},
  "kernelspec": {
   "display_name": "Python [default]",
   "language": "python",
   "name": "python2"
  },
  "language_info": {
   "codemirror_mode": {
    "name": "ipython",
    "version": 2
   },
   "file_extension": ".py",
   "mimetype": "text/x-python",
   "name": "python",
   "nbconvert_exporter": "python",
   "pygments_lexer": "ipython2",
   "version": "2.7.12"
  }
 },
 "nbformat": 4,
 "nbformat_minor": 2
}
