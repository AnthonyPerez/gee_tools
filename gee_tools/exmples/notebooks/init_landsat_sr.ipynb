{
 "cells": [
  {
   "cell_type": "code",
   "execution_count": 11,
   "metadata": {},
   "outputs": [],
   "source": [
    "import os, sys\n",
    "home = os.path.dirname(os.path.dirname(os.path.dirname(os.path.abspath('seasonal.py'))))\n",
    "sys.path.append(home)"
   ]
  },
  {
   "cell_type": "code",
   "execution_count": 13,
   "metadata": {},
   "outputs": [],
   "source": [
    "import optical_datasources as optx\n",
    "import ee"
   ]
  },
  {
   "cell_type": "code",
   "execution_count": 14,
   "metadata": {
    "collapsed": true
   },
   "outputs": [],
   "source": [
    "ee.Initialize()"
   ]
  },
  {
   "cell_type": "code",
   "execution_count": null,
   "metadata": {
    "collapsed": true
   },
   "outputs": [],
   "source": []
  },
  {
   "cell_type": "code",
   "execution_count": 15,
   "metadata": {
    "collapsed": true
   },
   "outputs": [],
   "source": [
    "states = ee.FeatureCollection(\"ft:17aT9Ud-YnGiXdXEJUyycH2ocUqreOeKGbzCkUw\")"
   ]
  },
  {
   "cell_type": "code",
   "execution_count": null,
   "metadata": {
    "collapsed": true
   },
   "outputs": [],
   "source": []
  },
  {
   "cell_type": "code",
   "execution_count": 16,
   "metadata": {
    "collapsed": true
   },
   "outputs": [],
   "source": [
    "year = 2016\n",
    "state_abbr = 'NE'\n",
    "start_date = ee.Date.fromYMD(year, 1, 1)\n",
    "end_date = ee.Date.fromYMD(year+1, 1, 1)\n",
    "region = ee.Feature(states.filterMetadata('id', 'equals', state_abbr).first())"
   ]
  },
  {
   "cell_type": "code",
   "execution_count": 20,
   "metadata": {
    "collapsed": true
   },
   "outputs": [],
   "source": [
    "sr = optx.LandsatSR(region.geometry(), start_date, end_date)\n",
    "srm = sr.mergedqam"
   ]
  },
  {
   "cell_type": "code",
   "execution_count": null,
   "metadata": {
    "collapsed": true
   },
   "outputs": [],
   "source": []
  },
  {
   "cell_type": "code",
   "execution_count": 22,
   "metadata": {},
   "outputs": [],
   "source": [
    "img = ee.Image(srm.first())"
   ]
  },
  {
   "cell_type": "code",
   "execution_count": 24,
   "metadata": {},
   "outputs": [
    {
     "data": {
      "text/plain": [
       "[u'WRS_PATH',\n",
       " u'EARTH_SUN_DISTANCE',\n",
       " u'system:time_start',\n",
       " u'LANDSAT_ID',\n",
       " u'SENSING_TIME',\n",
       " u'ESPA_VERSION',\n",
       " u'SOLAR_ZENITH_ANGLE',\n",
       " u'WRS_ROW',\n",
       " u'CLOUD_COVER_LAND',\n",
       " u'LEVEL1_PRODUCTION_DATE',\n",
       " u'SR_APP_VERSION',\n",
       " u'PIXEL_QA_VERSION',\n",
       " u'system:index',\n",
       " u'IMAGE_QUALITY_TIRS',\n",
       " u'SATELLITE',\n",
       " u'SOLAR_AZIMUTH_ANGLE',\n",
       " u'IMAGE_QUALITY_OLI',\n",
       " u'CLOUD_COVER',\n",
       " u'system:bands',\n",
       " u'system:band_names']"
      ]
     },
     "execution_count": 24,
     "metadata": {},
     "output_type": "execute_result"
    }
   ],
   "source": [
    "img.propertyNames().getInfo()"
   ]
  },
  {
   "cell_type": "code",
   "execution_count": null,
   "metadata": {
    "collapsed": true
   },
   "outputs": [],
   "source": []
  }
 ],
 "metadata": {
  "kernelspec": {
   "display_name": "Python 2",
   "language": "python",
   "name": "python2"
  },
  "language_info": {
   "codemirror_mode": {
    "name": "ipython",
    "version": 2
   },
   "file_extension": ".py",
   "mimetype": "text/x-python",
   "name": "python",
   "nbconvert_exporter": "python",
   "pygments_lexer": "ipython2",
   "version": "2.7.12"
  }
 },
 "nbformat": 4,
 "nbformat_minor": 2
}
