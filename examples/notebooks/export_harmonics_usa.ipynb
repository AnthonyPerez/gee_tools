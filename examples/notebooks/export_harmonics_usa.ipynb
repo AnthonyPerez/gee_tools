{
 "cells": [
  {
   "cell_type": "code",
   "execution_count": 1,
   "metadata": {
    "collapsed": true
   },
   "outputs": [],
   "source": [
    "import os, sys\n",
    "home = os.path.dirname(os.path.dirname(os.path.dirname(os.path.abspath('__init__.py'))))\n",
    "sys.path.append(home)"
   ]
  },
  {
   "cell_type": "code",
   "execution_count": 2,
   "metadata": {
    "collapsed": true
   },
   "outputs": [],
   "source": [
    "import ee\n",
    "ee.Initialize()"
   ]
  },
  {
   "cell_type": "code",
   "execution_count": 3,
   "metadata": {
    "collapsed": true
   },
   "outputs": [],
   "source": [
    "import optical_datasources as optix\n",
    "import harmonics"
   ]
  },
  {
   "cell_type": "code",
   "execution_count": 4,
   "metadata": {
    "collapsed": true
   },
   "outputs": [],
   "source": [
    "import pandas as pd\n",
    "%matplotlib inline"
   ]
  },
  {
   "cell_type": "code",
   "execution_count": 5,
   "metadata": {
    "collapsed": true
   },
   "outputs": [],
   "source": [
    "states = ee.FeatureCollection(\"ft:17aT9Ud-YnGiXdXEJUyycH2ocUqreOeKGbzCkUw\")"
   ]
  },
  {
   "cell_type": "code",
   "execution_count": 7,
   "metadata": {
    "collapsed": true
   },
   "outputs": [],
   "source": [
    "def export_lxharmonics(state_abbr, year, bands=None, rmbands=None, suffix=''):\n",
    "\n",
    "    start_date = ee.Date.fromYMD(year, 1, 1)\n",
    "    end_date = ee.Date.fromYMD(year+1, 1, 1)\n",
    "\n",
    "    fname = \"lxharmonics_{0}_{1}{2}\".format(state_abbr.lower(), str(year), suffix)\n",
    "    region = ee.Feature(states.filterMetadata('id', 'equals', state_abbr).first())\n",
    "\n",
    "    lxh = harmonics.lx_hregr(region.geometry(), start_date, end_date,\n",
    "                             omega=1.5,\n",
    "                             imgmask=imgmask,\n",
    "                             bands=bands,\n",
    "                             rmbands=rmbands,\n",
    "                             addcount=True)\n",
    "\n",
    "    lxh = lxh.set('year', year, 'state', state_abbr)\n",
    "\n",
    "    expcoord = region.geometry().coordinates().getInfo()[0]  # this is still needed in python\n",
    "\n",
    "    assetid = \"projects/lobell-lab/harmonics_us/\"+fname\n",
    "    task = ee.batch.Export.image.toAsset(image=lxh.clip(region.geometry()),\n",
    "                                         description=fname,\n",
    "                                         assetId=assetid,\n",
    "                                         region=expcoord,\n",
    "                                         scale=30,\n",
    "                                         crs='EPSG:3857',\n",
    "                                         maxPixels=1e13)\n",
    "\n",
    "    return task\n"
   ]
  },
  {
   "cell_type": "markdown",
   "metadata": {},
   "source": [
    "## Export assets"
   ]
  },
  {
   "cell_type": "code",
   "execution_count": 10,
   "metadata": {
    "collapsed": true
   },
   "outputs": [],
   "source": [
    "for year in [2010, 2011, 2012, 2013, 2014, 2015, 2016]:\n",
    "#     for st in ['NE', 'IL', 'IN', 'IA']:\n",
    "    for st in ['ND', 'SD']:\n",
    "        e = export_lxharmonics(st, year, \n",
    "                              bands=None, \n",
    "                              rmbands=['BLUE', 'RED', 'GREEN'], \n",
    "                              suffix='_novisbands')\n",
    "        e.start()"
   ]
  },
  {
   "cell_type": "code",
   "execution_count": null,
   "metadata": {
    "collapsed": true
   },
   "outputs": [],
   "source": []
  },
  {
   "cell_type": "code",
   "execution_count": null,
   "metadata": {
    "collapsed": true
   },
   "outputs": [],
   "source": []
  }
 ],
 "metadata": {
  "kernelspec": {
   "display_name": "Python 2",
   "language": "python",
   "name": "python2"
  },
  "language_info": {
   "codemirror_mode": {
    "name": "ipython",
    "version": 2
   },
   "file_extension": ".py",
   "mimetype": "text/x-python",
   "name": "python",
   "nbconvert_exporter": "python",
   "pygments_lexer": "ipython2",
   "version": "2.7.12"
  }
 },
 "nbformat": 4,
 "nbformat_minor": 2
}
