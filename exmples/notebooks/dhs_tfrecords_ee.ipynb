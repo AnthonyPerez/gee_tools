{
 "cells": [
  {
   "cell_type": "code",
   "execution_count": 1,
   "metadata": {
    "collapsed": true
   },
   "outputs": [],
   "source": [
    "import os, sys\n",
    "home = os.path.dirname(os.path.dirname(os.path.dirname(os.path.abspath('__init__.py'))))\n",
    "sys.path.append(home)"
   ]
  },
  {
   "cell_type": "code",
   "execution_count": 2,
   "metadata": {
    "collapsed": true
   },
   "outputs": [],
   "source": [
    "import optical_datasources as optx\n",
    "import imgtools\n",
    "import ee"
   ]
  },
  {
   "cell_type": "code",
   "execution_count": 3,
   "metadata": {
    "collapsed": true
   },
   "outputs": [],
   "source": [
    "ee.Initialize()"
   ]
  },
  {
   "cell_type": "code",
   "execution_count": 4,
   "metadata": {
    "collapsed": true
   },
   "outputs": [],
   "source": [
    "import pandas as pd"
   ]
  },
  {
   "cell_type": "code",
   "execution_count": 5,
   "metadata": {
    "collapsed": true
   },
   "outputs": [],
   "source": [
    "%matplotlib inline"
   ]
  },
  {
   "cell_type": "markdown",
   "metadata": {},
   "source": [
    "# Get formatted DHS dataframe"
   ]
  },
  {
   "cell_type": "markdown",
   "metadata": {},
   "source": [
    "This is just to understand better the distribution of the data within the DHS locations. This step is not necessary for the actual export."
   ]
  },
  {
   "cell_type": "code",
   "execution_count": 6,
   "metadata": {
    "collapsed": true
   },
   "outputs": [],
   "source": [
    "dhsdf = pd.read_csv(os.path.join(home,'data', 'dhs_all_locations.csv'))"
   ]
  },
  {
   "cell_type": "code",
   "execution_count": 7,
   "metadata": {},
   "outputs": [
    {
     "data": {
      "text/html": [
       "<div>\n",
       "<style>\n",
       "    .dataframe thead tr:only-child th {\n",
       "        text-align: right;\n",
       "    }\n",
       "\n",
       "    .dataframe thead th {\n",
       "        text-align: left;\n",
       "    }\n",
       "\n",
       "    .dataframe tbody tr th {\n",
       "        vertical-align: top;\n",
       "    }\n",
       "</style>\n",
       "<table border=\"1\" class=\"dataframe\">\n",
       "  <thead>\n",
       "    <tr style=\"text-align: right;\">\n",
       "      <th></th>\n",
       "      <th>Unnamed: 0</th>\n",
       "      <th>cluster_index</th>\n",
       "      <th>lat</th>\n",
       "      <th>lon</th>\n",
       "      <th>wealth</th>\n",
       "      <th>wealthpooled</th>\n",
       "      <th>wealthpooled5country</th>\n",
       "      <th>households</th>\n",
       "      <th>urban_rural</th>\n",
       "      <th>year</th>\n",
       "      <th>country</th>\n",
       "    </tr>\n",
       "  </thead>\n",
       "  <tbody>\n",
       "    <tr>\n",
       "      <th>0</th>\n",
       "      <td>0</td>\n",
       "      <td>1</td>\n",
       "      <td>14.675431</td>\n",
       "      <td>-17.440521</td>\n",
       "      <td>1.708104</td>\n",
       "      <td>1.598379</td>\n",
       "      <td>1.377751</td>\n",
       "      <td>21</td>\n",
       "      <td>1</td>\n",
       "      <td>2012</td>\n",
       "      <td>senegal</td>\n",
       "    </tr>\n",
       "    <tr>\n",
       "      <th>1</th>\n",
       "      <td>1</td>\n",
       "      <td>2</td>\n",
       "      <td>14.678271</td>\n",
       "      <td>-17.457794</td>\n",
       "      <td>1.679525</td>\n",
       "      <td>1.734295</td>\n",
       "      <td>1.449533</td>\n",
       "      <td>20</td>\n",
       "      <td>1</td>\n",
       "      <td>2012</td>\n",
       "      <td>senegal</td>\n",
       "    </tr>\n",
       "    <tr>\n",
       "      <th>2</th>\n",
       "      <td>2</td>\n",
       "      <td>3</td>\n",
       "      <td>14.710419</td>\n",
       "      <td>-17.459288</td>\n",
       "      <td>1.337672</td>\n",
       "      <td>1.421252</td>\n",
       "      <td>1.209425</td>\n",
       "      <td>21</td>\n",
       "      <td>1</td>\n",
       "      <td>2012</td>\n",
       "      <td>senegal</td>\n",
       "    </tr>\n",
       "    <tr>\n",
       "      <th>3</th>\n",
       "      <td>3</td>\n",
       "      <td>4</td>\n",
       "      <td>14.702820</td>\n",
       "      <td>-17.443008</td>\n",
       "      <td>2.443803</td>\n",
       "      <td>2.117576</td>\n",
       "      <td>1.828092</td>\n",
       "      <td>21</td>\n",
       "      <td>1</td>\n",
       "      <td>2012</td>\n",
       "      <td>senegal</td>\n",
       "    </tr>\n",
       "    <tr>\n",
       "      <th>4</th>\n",
       "      <td>4</td>\n",
       "      <td>5</td>\n",
       "      <td>14.757125</td>\n",
       "      <td>-17.478474</td>\n",
       "      <td>2.091719</td>\n",
       "      <td>1.848890</td>\n",
       "      <td>1.626253</td>\n",
       "      <td>22</td>\n",
       "      <td>1</td>\n",
       "      <td>2012</td>\n",
       "      <td>senegal</td>\n",
       "    </tr>\n",
       "  </tbody>\n",
       "</table>\n",
       "</div>"
      ],
      "text/plain": [
       "   Unnamed: 0  cluster_index        lat        lon    wealth  wealthpooled  \\\n",
       "0           0              1  14.675431 -17.440521  1.708104      1.598379   \n",
       "1           1              2  14.678271 -17.457794  1.679525      1.734295   \n",
       "2           2              3  14.710419 -17.459288  1.337672      1.421252   \n",
       "3           3              4  14.702820 -17.443008  2.443803      2.117576   \n",
       "4           4              5  14.757125 -17.478474  2.091719      1.848890   \n",
       "\n",
       "   wealthpooled5country  households  urban_rural  year  country  \n",
       "0              1.377751          21            1  2012  senegal  \n",
       "1              1.449533          20            1  2012  senegal  \n",
       "2              1.209425          21            1  2012  senegal  \n",
       "3              1.828092          21            1  2012  senegal  \n",
       "4              1.626253          22            1  2012  senegal  "
      ]
     },
     "execution_count": 7,
     "metadata": {},
     "output_type": "execute_result"
    }
   ],
   "source": [
    "dhsdf.head()"
   ]
  },
  {
   "cell_type": "code",
   "execution_count": 8,
   "metadata": {},
   "outputs": [
    {
     "data": {
      "text/plain": [
       "(19671, 11)"
      ]
     },
     "execution_count": 8,
     "metadata": {},
     "output_type": "execute_result"
    }
   ],
   "source": [
    "dhsdf.shape"
   ]
  },
  {
   "cell_type": "code",
   "execution_count": 9,
   "metadata": {},
   "outputs": [
    {
     "data": {
      "text/plain": [
       "array([[<matplotlib.axes._subplots.AxesSubplot object at 0x10fbb5590>]], dtype=object)"
      ]
     },
     "execution_count": 9,
     "metadata": {},
     "output_type": "execute_result"
    },
    {
     "data": {
      "image/png": "[encoded data removed]",
      "text/plain": [
       "<matplotlib.figure.Figure at 0x10fb926d0>"
      ]
     },
     "metadata": {},
     "output_type": "display_data"
    }
   ],
   "source": [
    " dhsdf.hist('year', bins=8)"
   ]
  },
  {
   "cell_type": "code",
   "execution_count": 10,
   "metadata": {
    "collapsed": true
   },
   "outputs": [],
   "source": [
    "dfsmr = pd.DataFrame(dhsdf.groupby(['year','country']).size())"
   ]
  },
  {
   "cell_type": "code",
   "execution_count": 11,
   "metadata": {
    "collapsed": true
   },
   "outputs": [],
   "source": [
    "dfsmr2 = pd.DataFrame(dhsdf.groupby(['year']).size())"
   ]
  },
  {
   "cell_type": "code",
   "execution_count": 12,
   "metadata": {
    "collapsed": true
   },
   "outputs": [],
   "source": [
    "dfsmr2=dfsmr2.reset_index()"
   ]
  },
  {
   "cell_type": "code",
   "execution_count": 13,
   "metadata": {},
   "outputs": [
    {
     "data": {
      "text/html": [
       "<div>\n",
       "<style>\n",
       "    .dataframe thead tr:only-child th {\n",
       "        text-align: right;\n",
       "    }\n",
       "\n",
       "    .dataframe thead th {\n",
       "        text-align: left;\n",
       "    }\n",
       "\n",
       "    .dataframe tbody tr th {\n",
       "        vertical-align: top;\n",
       "    }\n",
       "</style>\n",
       "<table border=\"1\" class=\"dataframe\">\n",
       "  <thead>\n",
       "    <tr style=\"text-align: right;\">\n",
       "      <th></th>\n",
       "      <th>year</th>\n",
       "      <th>0</th>\n",
       "    </tr>\n",
       "  </thead>\n",
       "  <tbody>\n",
       "    <tr>\n",
       "      <th>0</th>\n",
       "      <td>2009</td>\n",
       "      <td>835</td>\n",
       "    </tr>\n",
       "    <tr>\n",
       "      <th>1</th>\n",
       "      <td>2010</td>\n",
       "      <td>3906</td>\n",
       "    </tr>\n",
       "    <tr>\n",
       "      <th>2</th>\n",
       "      <td>2011</td>\n",
       "      <td>2389</td>\n",
       "    </tr>\n",
       "    <tr>\n",
       "      <th>3</th>\n",
       "      <td>2012</td>\n",
       "      <td>2140</td>\n",
       "    </tr>\n",
       "    <tr>\n",
       "      <th>4</th>\n",
       "      <td>2013</td>\n",
       "      <td>2865</td>\n",
       "    </tr>\n",
       "    <tr>\n",
       "      <th>5</th>\n",
       "      <td>2014</td>\n",
       "      <td>3495</td>\n",
       "    </tr>\n",
       "    <tr>\n",
       "      <th>6</th>\n",
       "      <td>2015</td>\n",
       "      <td>3227</td>\n",
       "    </tr>\n",
       "    <tr>\n",
       "      <th>7</th>\n",
       "      <td>2016</td>\n",
       "      <td>814</td>\n",
       "    </tr>\n",
       "  </tbody>\n",
       "</table>\n",
       "</div>"
      ],
      "text/plain": [
       "   year     0\n",
       "0  2009   835\n",
       "1  2010  3906\n",
       "2  2011  2389\n",
       "3  2012  2140\n",
       "4  2013  2865\n",
       "5  2014  3495\n",
       "6  2015  3227\n",
       "7  2016   814"
      ]
     },
     "execution_count": 13,
     "metadata": {},
     "output_type": "execute_result"
    }
   ],
   "source": [
    "dfsmr2"
   ]
  },
  {
   "cell_type": "code",
   "execution_count": 14,
   "metadata": {},
   "outputs": [
    {
     "data": {
      "text/plain": [
       "7130"
      ]
     },
     "execution_count": 14,
     "metadata": {},
     "output_type": "execute_result"
    }
   ],
   "source": [
    "dfsmr2[dfsmr2['year'] <= 2011][0].sum()"
   ]
  },
  {
   "cell_type": "code",
   "execution_count": 15,
   "metadata": {},
   "outputs": [
    {
     "data": {
      "text/plain": [
       "8500"
      ]
     },
     "execution_count": 15,
     "metadata": {},
     "output_type": "execute_result"
    }
   ],
   "source": [
    "dfsmr2[(dfsmr2['year'] > 2011) & (dfsmr2['year'] <= 2014)][0].sum()"
   ]
  },
  {
   "cell_type": "code",
   "execution_count": 16,
   "metadata": {},
   "outputs": [
    {
     "data": {
      "text/plain": [
       "4041"
      ]
     },
     "execution_count": 16,
     "metadata": {},
     "output_type": "execute_result"
    }
   ],
   "source": [
    "dfsmr2[dfsmr2['year'] > 2014][0].sum()"
   ]
  },
  {
   "cell_type": "markdown",
   "metadata": {},
   "source": [
    "**Landsat launch dates are:**\n",
    " - Landsat 8: February 11, 2013 - current\n",
    " - Landsat 7: April 15, 1999 - current\n",
    " - Landsat 5: March 1, 1984 –  November 2011"
   ]
  },
  {
   "cell_type": "markdown",
   "metadata": {},
   "source": [
    "Considering the distribution of data and the dates of the individual satellites, it would seem that a reasonable approach would be splitting into two 4-year groups. One from 2009 to 2012 (inclusive) the other one from 2013 to 2016 (inclusive). That way I'm splitting the \"bad years\" (mid 2012 to mid"
   ]
  },
  {
   "cell_type": "code",
   "execution_count": null,
   "metadata": {
    "collapsed": true
   },
   "outputs": [],
   "source": []
  },
  {
   "cell_type": "code",
   "execution_count": null,
   "metadata": {
    "collapsed": true
   },
   "outputs": [],
   "source": []
  },
  {
   "cell_type": "markdown",
   "metadata": {},
   "source": [
    "# Get EE Feature Collection from DHS fusion table"
   ]
  },
  {
   "cell_type": "markdown",
   "metadata": {},
   "source": [
    "NOTE: the 'dhs_all_locations.csv' file is uploaded to a Fusion Table, and lat/lon columns are set as the default location columns."
   ]
  },
  {
   "cell_type": "code",
   "execution_count": 17,
   "metadata": {
    "collapsed": true
   },
   "outputs": [],
   "source": [
    "dhsfc = ee.FeatureCollection('ft:1lFCM5_0xgkHG2-dBKB2WCuQnFHCecO7z_4VOLrhA')"
   ]
  },
  {
   "cell_type": "code",
   "execution_count": 18,
   "metadata": {
    "collapsed": true
   },
   "outputs": [],
   "source": [
    "# dhsfc.first().getInfo()"
   ]
  },
  {
   "cell_type": "code",
   "execution_count": 19,
   "metadata": {
    "collapsed": true
   },
   "outputs": [],
   "source": [
    "dhsfc_oldest = dhsfc.filter(ee.Filter.lte('year', 2011))\n",
    "\n",
    "dhsfc_middle = dhsfc.filter([ee.Filter.gt('year', 2011),\n",
    "                            ee.Filter.lte('year', 2014)])\n",
    "\n",
    "dhsfc_recent = dhsfc.filter(ee.Filter.gt('year', 2014))"
   ]
  },
  {
   "cell_type": "code",
   "execution_count": 20,
   "metadata": {},
   "outputs": [
    {
     "data": {
      "text/plain": [
       "7130"
      ]
     },
     "execution_count": 20,
     "metadata": {},
     "output_type": "execute_result"
    }
   ],
   "source": [
    "dhsfc_oldest.size().getInfo()"
   ]
  },
  {
   "cell_type": "code",
   "execution_count": 21,
   "metadata": {},
   "outputs": [
    {
     "data": {
      "text/plain": [
       "8500"
      ]
     },
     "execution_count": 21,
     "metadata": {},
     "output_type": "execute_result"
    }
   ],
   "source": [
    "dhsfc_middle.size().getInfo()"
   ]
  },
  {
   "cell_type": "code",
   "execution_count": 22,
   "metadata": {},
   "outputs": [
    {
     "data": {
      "text/plain": [
       "4041"
      ]
     },
     "execution_count": 22,
     "metadata": {},
     "output_type": "execute_result"
    }
   ],
   "source": [
    "dhsfc_recent.size().getInfo()"
   ]
  },
  {
   "cell_type": "markdown",
   "metadata": {},
   "source": [
    "# Generate multi-year composites"
   ]
  },
  {
   "cell_type": "code",
   "execution_count": 23,
   "metadata": {
    "collapsed": true
   },
   "outputs": [],
   "source": [
    "selbands = ['BLUE', 'GREEN', 'RED', 'NIR', 'SWIR1', 'SWIR2', 'TEMP1']  # these are consistent for all Lx"
   ]
  },
  {
   "cell_type": "markdown",
   "metadata": {},
   "source": [
    "### Recent branch"
   ]
  },
  {
   "cell_type": "code",
   "execution_count": 24,
   "metadata": {
    "collapsed": true
   },
   "outputs": [],
   "source": [
    "roi_recent = dhsfc_recent.geometry()\n",
    "srcoll_recent = optx.LandsatSR(roi_recent, '2015-1-1', '2017-12-31').mergedqam\n",
    "srmedian_recent = srcoll_recent.select(selbands).median().reproject('EPSG:3857', None, 30)\n",
    "srmedian_recent = imgtools.add_latlon(srmedian_recent)"
   ]
  },
  {
   "cell_type": "markdown",
   "metadata": {},
   "source": [
    "### Middle Branch"
   ]
  },
  {
   "cell_type": "code",
   "execution_count": 25,
   "metadata": {
    "collapsed": true
   },
   "outputs": [],
   "source": [
    "roi_mid = dhsfc_middle.geometry()\n",
    "srcoll_mid = optx.LandsatSR(roi_mid, '2012-1-1', '2014-12-31').mergedqam\n",
    "# srcoll_older = srcoll_older.map(lambda img: imgtools.add_latlon(img))\n",
    "srmedian_mid = srcoll_mid.select(selbands).median().reproject('EPSG:3857', None, 30)\n",
    "srmedian_mid = imgtools.add_latlon(srmedian_mid)"
   ]
  },
  {
   "cell_type": "markdown",
   "metadata": {},
   "source": [
    "### Oldest Branch"
   ]
  },
  {
   "cell_type": "code",
   "execution_count": 26,
   "metadata": {
    "collapsed": true
   },
   "outputs": [],
   "source": [
    "roi_oldest = dhsfc_oldest.geometry()\n",
    "srcoll_oldest = optx.LandsatSR(roi_oldest, '2009-1-1', '2011-12-31').mergedqam\n",
    "# srcoll_older = srcoll_older.map(lambda img: imgtools.add_latlon(img))\n",
    "srmedian_oldest = srcoll_oldest.select(selbands).median().reproject('EPSG:3857', None, 30)\n",
    "srmedian_oldest = imgtools.add_latlon(srmedian_oldest)"
   ]
  },
  {
   "cell_type": "code",
   "execution_count": null,
   "metadata": {
    "collapsed": true
   },
   "outputs": [],
   "source": []
  },
  {
   "cell_type": "markdown",
   "metadata": {},
   "source": [
    "# Create TF records from DHS locations"
   ]
  },
  {
   "cell_type": "code",
   "execution_count": 27,
   "metadata": {
    "collapsed": true
   },
   "outputs": [],
   "source": [
    "from ai_io import ee_tf_exports as tfexp"
   ]
  },
  {
   "cell_type": "markdown",
   "metadata": {},
   "source": [
    "### Testing single patch from composite"
   ]
  },
  {
   "cell_type": "code",
   "execution_count": 35,
   "metadata": {
    "collapsed": true
   },
   "outputs": [],
   "source": [
    "kern = ee.Kernel.square(5,'pixels')\n",
    "# kern = ee.Kernel.square(127,'pixels')\n",
    "patches_array = srmedian_recent.neighborhoodToArray(kern)\n",
    "pt = ee.Feature(dhsfc_recent.first())\n",
    "samplep = tfexp._sample_patch(pt, patches_array, 30)"
   ]
  },
  {
   "cell_type": "markdown",
   "metadata": {},
   "source": [
    "### Exporting array patches (i.e. full tile in array form) from DHS locations"
   ]
  },
  {
   "cell_type": "code",
   "execution_count": 28,
   "metadata": {
    "collapsed": true
   },
   "outputs": [],
   "source": [
    "dhsinfo = dhsfc_recent.first().propertyNames().getInfo()"
   ]
  },
  {
   "cell_type": "code",
   "execution_count": 29,
   "metadata": {
    "collapsed": true
   },
   "outputs": [],
   "source": [
    "test = tfexp.get_array_patches(srmedian_mid, 30, 127, dhsfc_middle, \n",
    "                     True, True, selbands+dhsinfo+['LAT', 'LON'], None, 'eetf_io_tests', \n",
    "                     'LabeledPatches/', 'lx_median_2012-14_dhslocs_arrays_v2')"
   ]
  },
  {
   "cell_type": "code",
   "execution_count": 30,
   "metadata": {
    "collapsed": true
   },
   "outputs": [],
   "source": [
    "test = tfexp.get_array_patches(srmedian_recent, 30, 127, dhsfc_recent, \n",
    "                     True, True, selbands+dhsinfo+['LAT', 'LON'], None, 'eetf_io_tests', \n",
    "                     'LabeledPatches/', 'lx_median_2015-17_dhslocs_arrays_v2')"
   ]
  },
  {
   "cell_type": "code",
   "execution_count": 31,
   "metadata": {
    "collapsed": true
   },
   "outputs": [],
   "source": [
    "test = tfexp.get_array_patches(srmedian_oldest, 30, 127, dhsfc_oldest, \n",
    "                     True, True, selbands+dhsinfo+['LAT', 'LON'], None, 'eetf_io_tests', \n",
    "                     'LabeledPatches/', 'lx_median_2009-11_dhslocs_arrays_v2')"
   ]
  },
  {
   "cell_type": "code",
   "execution_count": 32,
   "metadata": {
    "collapsed": true
   },
   "outputs": [],
   "source": [
    "# test.getInfo()"
   ]
  },
  {
   "cell_type": "code",
   "execution_count": null,
   "metadata": {
    "collapsed": true
   },
   "outputs": [],
   "source": []
  },
  {
   "cell_type": "markdown",
   "metadata": {},
   "source": [
    "### Exporting reduced patches (i.e. tile stats) from DHS locations"
   ]
  },
  {
   "cell_type": "code",
   "execution_count": 44,
   "metadata": {
    "collapsed": true
   },
   "outputs": [],
   "source": [
    "redubands = [item for sublist in [[b+'_mean', b+'_variance'] for b in selbands] for item in sublist]"
   ]
  },
  {
   "cell_type": "code",
   "execution_count": 45,
   "metadata": {},
   "outputs": [
    {
     "data": {
      "text/plain": [
       "['BLUE_mean',\n",
       " 'BLUE_variance',\n",
       " 'GREEN_mean',\n",
       " 'GREEN_variance',\n",
       " 'RED_mean',\n",
       " 'RED_variance',\n",
       " 'NIR_mean',\n",
       " 'NIR_variance',\n",
       " 'SWIR1_mean',\n",
       " 'SWIR1_variance',\n",
       " 'SWIR2_mean',\n",
       " 'SWIR2_variance',\n",
       " 'TEMP1_mean',\n",
       " 'TEMP1_variance']"
      ]
     },
     "execution_count": 45,
     "metadata": {},
     "output_type": "execute_result"
    }
   ],
   "source": [
    "redubands"
   ]
  },
  {
   "cell_type": "code",
   "execution_count": 46,
   "metadata": {
    "collapsed": true
   },
   "outputs": [],
   "source": [
    "test = tfexp.get_reduced_patches(srmedian_mid, 30, 127, dhsfc_middle, \n",
    "                     True, True, redubands+dhsinfo+['LAT', 'LON'], None, 'eetf_io_tests', \n",
    "                     'LabeledPatches/', 'lx_median_2012-14_dhslocs_stats_v2')"
   ]
  },
  {
   "cell_type": "code",
   "execution_count": 47,
   "metadata": {
    "collapsed": true
   },
   "outputs": [],
   "source": [
    "test = tfexp.get_reduced_patches(srmedian_recent, 30, 127, dhsfc_recent, \n",
    "                     True, True, redubands+dhsinfo+['LAT', 'LON'], None, 'eetf_io_tests', \n",
    "                     'LabeledPatches/', 'lx_median_2015-17_dhslocs_stats_v2')"
   ]
  },
  {
   "cell_type": "code",
   "execution_count": 48,
   "metadata": {
    "collapsed": true
   },
   "outputs": [],
   "source": [
    "test = tfexp.get_reduced_patches(srmedian_oldest, 30, 127, dhsfc_oldest, \n",
    "                     True, True, redubands+dhsinfo+['LAT', 'LON'], None, 'eetf_io_tests', \n",
    "                     'LabeledPatches/', 'lx_median_2009-11_dhslocs_stats_v2')"
   ]
  },
  {
   "cell_type": "code",
   "execution_count": null,
   "metadata": {
    "collapsed": true
   },
   "outputs": [],
   "source": []
  },
  {
   "cell_type": "code",
   "execution_count": null,
   "metadata": {
    "collapsed": true
   },
   "outputs": [],
   "source": []
  },
  {
   "cell_type": "code",
   "execution_count": null,
   "metadata": {
    "collapsed": true
   },
   "outputs": [],
   "source": []
  },
  {
   "cell_type": "code",
   "execution_count": null,
   "metadata": {
    "collapsed": true
   },
   "outputs": [],
   "source": []
  }
 ],
 "metadata": {
  "anaconda-cloud": {},
  "kernelspec": {
   "display_name": "Python [default]",
   "language": "python",
   "name": "python2"
  },
  "language_info": {
   "codemirror_mode": {
    "name": "ipython",
    "version": 2
   },
   "file_extension": ".py",
   "mimetype": "text/x-python",
   "name": "python",
   "nbconvert_exporter": "python",
   "pygments_lexer": "ipython2",
   "version": "2.7.12"
  }
 },
 "nbformat": 4,
 "nbformat_minor": 2
}
